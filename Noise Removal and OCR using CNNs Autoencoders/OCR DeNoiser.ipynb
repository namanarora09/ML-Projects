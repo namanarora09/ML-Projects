{
 "cells": [
  {
   "cell_type": "markdown",
   "id": "c772812f",
   "metadata": {},
   "source": [
    "# DATA NOISE REMOVAL USING AUTOENCODERS\n",
    "---\n",
    "\n",
    "### IMPORTING PROJECT DEPENDENCIES\n",
    "---\n",
    "In this part, we will import all the necessary modules required for this project."
   ]
  },
  {
   "cell_type": "code",
   "execution_count": 2,
   "id": "0b58e82a",
   "metadata": {},
   "outputs": [],
   "source": [
    "# modules for modeling and data manipulation\n",
    "import numpy as np\n",
    "import tensorflow as tf\n",
    "import tensorflow.keras as keras\n",
    "from tensorflow.keras import layers\n",
    "from tensorflow.keras import backend as K\n",
    "\n",
    "# modules for viewing images\n",
    "import matplotlib.pyplot as plt\n",
    "import matplotlib.image as mpimg"
   ]
  },
  {
   "cell_type": "markdown",
   "id": "3ab540ed",
   "metadata": {},
   "source": [
    "### IMPORTING THE DATASET\n",
    "---\n",
    "\n",
    "Let us now import the dataset and have a look at the number of data instances within out dataset."
   ]
  },
  {
   "cell_type": "code",
   "execution_count": 3,
   "id": "2d539f37",
   "metadata": {},
   "outputs": [
    {
     "name": "stdout",
     "output_type": "stream",
     "text": [
      "Downloading data from https://storage.googleapis.com/tensorflow/tf-keras-datasets/mnist.npz\n",
      "11490434/11490434 [==============================] - 5s 0us/step\n",
      "X_train's shape: (60000, 28, 28)\n",
      "y_train's shape: (60000,)\n",
      "X_test's shape: (10000, 28, 28)\n",
      "y_test's shape: (10000,)\n"
     ]
    }
   ],
   "source": [
    "# loading the MNIST dataset from keras' built-in dataset API\n",
    "(X_train, y_train), (X_test, y_test) = keras.datasets.mnist.load_data()\n",
    "\n",
    "# printing shapes of the dataset items\n",
    "print(\"X_train's shape: {}\".format(X_train.shape))\n",
    "print(\"y_train's shape: {}\".format(y_train.shape))\n",
    "print(\"X_test's shape: {}\".format(X_test.shape))\n",
    "print(\"y_test's shape: {}\".format(y_test.shape))\n"
   ]
  },
  {
   "cell_type": "markdown",
   "id": "f242bbf5",
   "metadata": {},
   "source": [
    "As we can see, the training data consists of 60,000 images of handwritten digits. The test set consists of 10,000 images.\n",
    "\n",
    "Let us view some random images within our training dataset."
   ]
  },
  {
   "cell_type": "code",
   "execution_count": 4,
   "id": "6010309d",
   "metadata": {},
   "outputs": [],
   "source": [
    "def display_random_images(data, num_images:int):\n",
    "    \"\"\"Displays random images from a dataset.\n",
    "    Args-\n",
    "        data: Image dataset\n",
    "        num_images: Number of images to display\n",
    "    Returns-\n",
    "        None\n",
    "    \"\"\"\n",
    "    max_lim, _, _ = data.shape\n",
    "\n",
    "    fig, axes = plt.subplots(1, num_images, figsize=(4*num_images, 4), sharey=True)\n",
    "\n",
    "    index_list = np.random.randint(0, max_lim, (num_images,))\n",
    "    for index , ax in zip(index_list, axes):\n",
    "        ax.imshow(data[index, :, :], cmap='gray')"
   ]
  },
  {
   "cell_type": "code",
   "execution_count": 5,
   "id": "0d10fc28",
   "metadata": {},
   "outputs": [
    {
     "data": {
      "image/png": "[encoded data removed]",
      "text/plain": [
       "<Figure size 1440x288 with 5 Axes>"
      ]
     },
     "metadata": {
      "needs_background": "light"
     },
     "output_type": "display_data"
    }
   ],
   "source": [
    "display_random_images(X_train, 5)"
   ]
  },
  {
   "cell_type": "markdown",
   "id": "008b4694",
   "metadata": {},
   "source": [
    "One thing that is clearly visible from these images is that there is little-to-no-noise within the images of our handwritten digits. __Hence, we need to manually induce some stochastic noise within the dataset so that we can train our de-noiser autoencoder.__ \n",
    "\n",
    "In the next section, let us create a 'noisy' dataset from our existing training set.\n",
    "\n",
    "### ADDING STOCHASTIC (RANDOM) NOISE TO TRAINING SET\n",
    "---\n",
    "Before we define the function to add noise to the image data, let's first observe what an individual image looks like in terms of the numerical data of its pixels. This will help us determine the type of noise to add to the dataset."
   ]
  },
  {
   "cell_type": "code",
   "execution_count": 6,
   "id": "ee087e25",
   "metadata": {},
   "outputs": [
    {
     "data": {
      "text/plain": [
       "array([[  0,   0,   0,   0,   0,   0,   0,   0,   0,   0,   0,   0,   0,\n",
       "          0],\n",
       "       [  0,   0,   0,   0,   0,   0,   0,   0,   0,   0,   0,   0,   0,\n",
       "          0],\n",
       "       [  0,   0,   0,   0,   0,   0,   0,   0,   0,   0,   0,   0,   0,\n",
       "          0],\n",
       "       [  0,   0,   0,   0,   0,   0,   0,   0,   0,   0,   0,   0,   0,\n",
       "          0],\n",
       "       [  0,   0,   0,   0,   0,   0,   0,   0,   0,   0,   0,   0,   0,\n",
       "          0],\n",
       "       [  0,   0,   0,   0,   0,   0,   0,   0,   0,   0,   0,   0,   3,\n",
       "         18],\n",
       "       [  0,   0,   0,   0,   0,   0,   0,   0,  30,  36,  94, 154, 170,\n",
       "        253],\n",
       "       [  0,   0,   0,   0,   0,   0,   0,  49, 238, 253, 253, 253, 253,\n",
       "        253],\n",
       "       [  0,   0,   0,   0,   0,   0,   0,  18, 219, 253, 253, 253, 253,\n",
       "        253],\n",
       "       [  0,   0,   0,   0,   0,   0,   0,   0,  80, 156, 107, 253, 253,\n",
       "        205],\n",
       "       [  0,   0,   0,   0,   0,   0,   0,   0,   0,  14,   1, 154, 253,\n",
       "         90],\n",
       "       [  0,   0,   0,   0,   0,   0,   0,   0,   0,   0,   0, 139, 253,\n",
       "        190],\n",
       "       [  0,   0,   0,   0,   0,   0,   0,   0,   0,   0,   0,  11, 190,\n",
       "        253],\n",
       "       [  0,   0,   0,   0,   0,   0,   0,   0,   0,   0,   0,   0,  35,\n",
       "        241]], dtype=uint8)"
      ]
     },
     "execution_count": 6,
     "metadata": {},
     "output_type": "execute_result"
    }
   ],
   "source": [
    "# printing a 14x14 crop of the 28x28 pixel grayscale(single color channel) image\n",
    "X_train[0, :14, :14]"
   ]
  },
  {
   "cell_type": "markdown",
   "id": "7d902c5f",
   "metadata": {},
   "source": [
    "There are 2 observation here.\n",
    "* The individual pixel values range from 0-255. In order to reduce this range, we need to scale/normalize the images.\n",
    "* A pixel value of 0 denotes darker regions. Pixel values close to 255 denote brighter region. Since the actual digits are composed of brighter pixels, the noise that we have to introduce has to be on the brighter end of the grayscale spectrum.\n",
    "\n",
    "Before we move any further, first let us scale the data. We will divide the pixel values by a factor of 255.0, which will reduce the scale from \\[0,255] to just \\[0,1].\n",
    "\n",
    "__NOTE: Generally, the smaller the range of values the model has to deal with, the faster and more accurate the model's performance is.__ "
   ]
  },
  {
   "cell_type": "code",
   "execution_count": 7,
   "id": "8daf9cce",
   "metadata": {},
   "outputs": [],
   "source": [
    "# re-scaling the data\n",
    "X_train = X_train / 255.0\n",
    "X_test = X_test / 255.0"
   ]
  },
  {
   "cell_type": "markdown",
   "id": "a9e0797c",
   "metadata": {},
   "source": [
    "Next, create a copy of the original training set, on which we are going to add the noise. This is important because otherwise the original data will get distorted which we don't want."
   ]
  },
  {
   "cell_type": "code",
   "execution_count": 8,
   "id": "d94ca485",
   "metadata": {},
   "outputs": [],
   "source": [
    "# creating copy of original training set\n",
    "X_train_copy = np.copy(X_train)\n",
    "X_test_copy = np.copy(X_test)"
   ]
  },
  {
   "cell_type": "markdown",
   "id": "933cabad",
   "metadata": {},
   "source": [
    "Now, let us finally define the method for adding noise to the dataset. "
   ]
  },
  {
   "cell_type": "code",
   "execution_count": 9,
   "id": "ca822ae0",
   "metadata": {},
   "outputs": [],
   "source": [
    "def add_noise(training_data):\n",
    "    \"\"\"Adds noise to images.\n",
    "\n",
    "    Args-\n",
    "        training_data: Numpy array of training image data.\n",
    "    Returns-\n",
    "        noisy_data: Modified image data w/ noise.\n",
    "    \"\"\"\n",
    "    m, n_H, n_W = training_data.shape\n",
    "    noise_filter = np.random.rand(m, n_H, n_W) # creating the noise filter\n",
    "    noisy_data = noise_filter + training_data # overlaying noise filter on training data\n",
    "    return noisy_data"
   ]
  },
  {
   "cell_type": "code",
   "execution_count": 10,
   "id": "ce083795",
   "metadata": {},
   "outputs": [
    {
     "data": {
      "image/png": "[encoded data removed]",
      "text/plain": [
       "<Figure size 1440x288 with 5 Axes>"
      ]
     },
     "metadata": {
      "needs_background": "light"
     },
     "output_type": "display_data"
    }
   ],
   "source": [
    "# creating noisy data\n",
    "X_train_noisy = add_noise(X_train_copy)\n",
    "X_test_noisy = add_noise(X_test_copy)\n",
    "\n",
    "# printing samples from noisy data\n",
    "display_random_images(X_train_noisy, 5)"
   ]
  },
  {
   "cell_type": "markdown",
   "id": "c1f3a246",
   "metadata": {},
   "source": [
    "Finally, we have a pretty noisy data. The initial work is over.\n",
    "\n",
    "The next step is— Creating a neural network that will automatically remove the noise from the dataset, so that another model can recognize the digits within this noisy data. For this, we will be implementing an Autoencoder architecture.\n",
    "\n",
    "Let's go ahead and implement this."
   ]
  },
  {
   "cell_type": "code",
   "execution_count": 11,
   "id": "80112510",
   "metadata": {},
   "outputs": [],
   "source": [
    "def build_model(n_W:int, n_H:int, n_C:int, filter_num_list:list, latent_dim:int):\n",
    "    \"\"\"Builds the autoencoder model for noise-removal.\n",
    "    Args-\n",
    "        n_W: Width dimension of input image\n",
    "        n_H: Height dimension of input image\n",
    "        n_C: Number of color channels (1 for grayscale; 3 for RGB)\n",
    "        filter_num_list: Python list of filters\n",
    "        latent_dim: Dimensions of the latent space at the core of autoencoder architecture\n",
    "    Returns-\n",
    "        encoder: Encoder part of the model\n",
    "        decoder: Decoder part of the model\n",
    "        autoencoder: Autoencoder model\n",
    "    \"\"\"\n",
    "    input_shape = (n_W, n_H, n_C)\n",
    "\n",
    "    ###############\n",
    "\n",
    "    ## ENCODER PART OF MODEL\n",
    "\n",
    "    # input layer \n",
    "    encoder_input = layers.Input(shape=input_shape, name='enc_input')\n",
    "    X = encoder_input\n",
    "    # convolution layers\n",
    "    num = 0\n",
    "    for filter in filter_num_list:\n",
    "        num += 1\n",
    "        X = layers.Conv2D(filters=filter, kernel_size=(3,3), strides=2, padding='same', activation='relu', name='conv_'+str(num))(X)\n",
    "        X = layers.BatchNormalization(axis=-1, name='bn_'+str(num))(X)\n",
    "    # flattening the convolved output\n",
    "    shape_before_flatten = K.int_shape(X)[1:]\n",
    "    X = layers.Flatten(name='flatten')(X)\n",
    "    # Latent space as a dense layer (no activation function required)\n",
    "    X = layers.Dense(latent_dim, name='latent_space')(X)\n",
    "    latent_space = X\n",
    "    encoder = keras.models.Model(inputs=encoder_input, outputs=latent_space, name='encoder')\n",
    "\n",
    "    ###############\n",
    "\n",
    "    ## DECODER PART OF MODEL\n",
    "\n",
    "    # beginning with the latent space\n",
    "    decoder_input = layers.Input(shape=(latent_dim,), name='dec_input')\n",
    "\n",
    "    # expansion to original shape after flatten operation in encoder part\n",
    "    X = layers.Dense(np.prod(shape_before_flatten), name='dense')(decoder_input)\n",
    "    X = layers.Reshape(shape_before_flatten, name='shape_before_flatten')(X)\n",
    "    # deconvolving \n",
    "    filtersRev = filter_num_list\n",
    "    filtersRev.reverse()\n",
    "    num = 0\n",
    "    for filter in filtersRev:\n",
    "        num += 1\n",
    "        X = layers.Conv2DTranspose(filter, kernel_size=(3,3), strides=(2,2), padding='same', activation='relu', name='deconv_'+str(num))(X)\n",
    "        X = layers.BatchNormalization(axis=-1, name='d_bn_'+str(num))(X)\n",
    "    # number of channels in X is equal to the first filter in the filter_num_list\n",
    "    # need to convert it to n_C number of channels using single-filter deconv operation\n",
    "    X = layers.Conv2DTranspose(n_C, kernel_size=(3,3), padding='same', name='output')(X)\n",
    "    X = layers.Activation('sigmoid')(X)\n",
    "    \n",
    "    decoder_output = X\n",
    "\n",
    "    decoder = keras.models.Model(inputs=decoder_input, outputs=decoder_output, name='decoder')\n",
    "    \n",
    "    ###############\n",
    "    ## COMPLETE ASSEMBLED AUTOENCODER\n",
    "    autoencoder = keras.models.Model(inputs=encoder_input, outputs=decoder(encoder(encoder_input)), name='autoencoder')\n",
    "\n",
    "    return encoder, decoder, autoencoder"
   ]
  },
  {
   "cell_type": "code",
   "execution_count": 12,
   "id": "94528f53",
   "metadata": {},
   "outputs": [],
   "source": [
    "encoder, decoder, autoencoder = build_model(28, 28, 1, [32, 64], 16)"
   ]
  },
  {
   "cell_type": "markdown",
   "id": "719e2892",
   "metadata": {},
   "source": [
    "With this, we have completed defining our model. Let us now have a look at the summary of our model."
   ]
  },
  {
   "cell_type": "code",
   "execution_count": 13,
   "id": "2635e8ad",
   "metadata": {},
   "outputs": [
    {
     "name": "stdout",
     "output_type": "stream",
     "text": [
      "Model: \"encoder\"\n",
      "_________________________________________________________________\n",
      " Layer (type)                Output Shape              Param #   \n",
      "=================================================================\n",
      " enc_input (InputLayer)      [(None, 28, 28, 1)]       0         \n",
      "                                                                 \n",
      " conv_1 (Conv2D)             (None, 14, 14, 32)        320       \n",
      "                                                                 \n",
      " bn_1 (BatchNormalization)   (None, 14, 14, 32)        128       \n",
      "                                                                 \n",
      " conv_2 (Conv2D)             (None, 7, 7, 64)          18496     \n",
      "                                                                 \n",
      " bn_2 (BatchNormalization)   (None, 7, 7, 64)          256       \n",
      "                                                                 \n",
      " flatten (Flatten)           (None, 3136)              0         \n",
      "                                                                 \n",
      " latent_space (Dense)        (None, 16)                50192     \n",
      "                                                                 \n",
      "=================================================================\n",
      "Total params: 69,392\n",
      "Trainable params: 69,200\n",
      "Non-trainable params: 192\n",
      "_________________________________________________________________\n",
      "Model: \"decoder\"\n",
      "_________________________________________________________________\n",
      " Layer (type)                Output Shape              Param #   \n",
      "=================================================================\n",
      " dec_input (InputLayer)      [(None, 16)]              0         \n",
      "                                                                 \n",
      " dense (Dense)               (None, 3136)              53312     \n",
      "                                                                 \n",
      " shape_before_flatten (Resha  (None, 7, 7, 64)         0         \n",
      " pe)                                                             \n",
      "                                                                 \n",
      " deconv_1 (Conv2DTranspose)  (None, 14, 14, 64)        36928     \n",
      "                                                                 \n",
      " d_bn_1 (BatchNormalization)  (None, 14, 14, 64)       256       \n",
      "                                                                 \n",
      " deconv_2 (Conv2DTranspose)  (None, 28, 28, 32)        18464     \n",
      "                                                                 \n",
      " d_bn_2 (BatchNormalization)  (None, 28, 28, 32)       128       \n",
      "                                                                 \n",
      " output (Conv2DTranspose)    (None, 28, 28, 1)         289       \n",
      "                                                                 \n",
      " activation (Activation)     (None, 28, 28, 1)         0         \n",
      "                                                                 \n",
      "=================================================================\n",
      "Total params: 109,377\n",
      "Trainable params: 109,185\n",
      "Non-trainable params: 192\n",
      "_________________________________________________________________\n"
     ]
    },
    {
     "data": {
      "image/png": "[encoded data removed]",
      "text/plain": [
       "<IPython.core.display.Image object>"
      ]
     },
     "execution_count": 13,
     "metadata": {},
     "output_type": "execute_result"
    }
   ],
   "source": [
    "encoder.summary()\n",
    "decoder.summary()\n",
    "keras.utils.plot_model(autoencoder, 'model.png', show_shapes=True)"
   ]
  },
  {
   "cell_type": "markdown",
   "id": "68319600",
   "metadata": {},
   "source": [
    "Let us now train the model."
   ]
  },
  {
   "cell_type": "code",
   "execution_count": 14,
   "id": "e1774abd",
   "metadata": {},
   "outputs": [
    {
     "name": "stdout",
     "output_type": "stream",
     "text": [
      "Epoch 1/40\n",
      "462/462 [==============================] - 145s 296ms/step - loss: 0.0341 - val_loss: 0.0216\n",
      "Epoch 2/40\n",
      "462/462 [==============================] - 114s 247ms/step - loss: 0.0140 - val_loss: 0.0128\n",
      "Epoch 3/40\n",
      "462/462 [==============================] - 109s 236ms/step - loss: 0.0122 - val_loss: 0.0116\n",
      "Epoch 4/40\n",
      "462/462 [==============================] - 109s 237ms/step - loss: 0.0114 - val_loss: 0.0110\n",
      "Epoch 5/40\n",
      "462/462 [==============================] - 105s 228ms/step - loss: 0.0108 - val_loss: 0.0105\n",
      "Epoch 6/40\n",
      "462/462 [==============================] - 104s 225ms/step - loss: 0.0104 - val_loss: 0.0108\n",
      "Epoch 7/40\n",
      "462/462 [==============================] - 114s 247ms/step - loss: 0.0101 - val_loss: 0.0100\n",
      "Epoch 8/40\n",
      "462/462 [==============================] - 110s 238ms/step - loss: 0.0098 - val_loss: 0.0098\n",
      "Epoch 9/40\n",
      "462/462 [==============================] - 107s 231ms/step - loss: 0.0096 - val_loss: 0.0096\n",
      "Epoch 10/40\n",
      "462/462 [==============================] - 104s 224ms/step - loss: 0.0095 - val_loss: 0.0096\n",
      "Epoch 11/40\n",
      "462/462 [==============================] - 111s 240ms/step - loss: 0.0093 - val_loss: 0.0095\n",
      "Epoch 12/40\n",
      "462/462 [==============================] - 109s 236ms/step - loss: 0.0092 - val_loss: 0.0093\n",
      "Epoch 13/40\n",
      "462/462 [==============================] - 105s 228ms/step - loss: 0.0091 - val_loss: 0.0097\n",
      "Epoch 14/40\n",
      "462/462 [==============================] - 106s 228ms/step - loss: 0.0090 - val_loss: 0.0092\n",
      "Epoch 15/40\n",
      "462/462 [==============================] - 106s 230ms/step - loss: 0.0089 - val_loss: 0.0094\n",
      "Epoch 16/40\n",
      "462/462 [==============================] - 108s 233ms/step - loss: 0.0088 - val_loss: 0.0091\n",
      "Epoch 17/40\n",
      "462/462 [==============================] - 106s 229ms/step - loss: 0.0088 - val_loss: 0.0090\n",
      "Epoch 18/40\n",
      "462/462 [==============================] - 107s 232ms/step - loss: 0.0087 - val_loss: 0.0094\n",
      "Epoch 19/40\n",
      "462/462 [==============================] - 108s 233ms/step - loss: 0.0086 - val_loss: 0.0109\n",
      "Epoch 20/40\n",
      "462/462 [==============================] - 107s 232ms/step - loss: 0.0086 - val_loss: 0.0103\n",
      "Epoch 21/40\n",
      "462/462 [==============================] - 106s 230ms/step - loss: 0.0085 - val_loss: 0.0092\n",
      "Epoch 22/40\n",
      "462/462 [==============================] - 106s 229ms/step - loss: 0.0085 - val_loss: 0.0087\n",
      "Epoch 23/40\n",
      "462/462 [==============================] - 106s 230ms/step - loss: 0.0084 - val_loss: 0.0094\n",
      "Epoch 24/40\n",
      "462/462 [==============================] - 95s 206ms/step - loss: 0.0084 - val_loss: 0.0096\n",
      "Epoch 25/40\n",
      "462/462 [==============================] - 90s 195ms/step - loss: 0.0084 - val_loss: 0.0091\n",
      "Epoch 26/40\n",
      "462/462 [==============================] - 92s 200ms/step - loss: 0.0083 - val_loss: 0.0087\n",
      "Epoch 27/40\n",
      "462/462 [==============================] - 90s 194ms/step - loss: 0.0083 - val_loss: 0.0094\n",
      "Epoch 28/40\n",
      "462/462 [==============================] - 89s 193ms/step - loss: 0.0082 - val_loss: 0.0092\n",
      "Epoch 29/40\n",
      "462/462 [==============================] - 91s 197ms/step - loss: 0.0082 - val_loss: 0.0087\n",
      "Epoch 30/40\n",
      "462/462 [==============================] - 89s 193ms/step - loss: 0.0082 - val_loss: 0.0091\n",
      "Epoch 31/40\n",
      "462/462 [==============================] - 89s 193ms/step - loss: 0.0081 - val_loss: 0.0102\n"
     ]
    },
    {
     "data": {
      "text/plain": [
       "<keras.callbacks.History at 0x256d74a0760>"
      ]
     },
     "execution_count": 14,
     "metadata": {},
     "output_type": "execute_result"
    }
   ],
   "source": [
    "autoencoder.compile(optimizer='adam', loss='mse')\n",
    "\n",
    "# adding additional dimension to the training-noinsy data and original \n",
    "# traininig data to be used as label since both input and output should be\n",
    "# of the shape (m, 28, 28, 1) \n",
    "x0, x1, x3 = X_train_copy.shape\n",
    "X_train_copy = X_train_copy.reshape(x0, x1, x3, 1)\n",
    "X_train_noisy = X_train_noisy.reshape(x0, x1, x3, 1)\n",
    "\n",
    "autoencoder.fit(\n",
    "    x = X_train_noisy, # input data is the noisy data\n",
    "    y = X_train_copy, # non-noisy data to be used as target\n",
    "    epochs = 40,\n",
    "    callbacks = keras.callbacks.EarlyStopping(patience=5, restore_best_weights=True),\n",
    "    batch_size = 128,\n",
    "    validation_split = 0.016, # around 1000 images \n",
    "    workers = 4,\n",
    ")"
   ]
  },
  {
   "cell_type": "markdown",
   "id": "f9254456",
   "metadata": {},
   "source": [
    "Finally, let us use the autoencoder to eliminate the noise on the test data."
   ]
  },
  {
   "cell_type": "code",
   "execution_count": 15,
   "id": "2972e3a1",
   "metadata": {},
   "outputs": [
    {
     "name": "stdout",
     "output_type": "stream",
     "text": [
      "79/79 [==============================] - 6s 65ms/step\n"
     ]
    }
   ],
   "source": [
    "x0, x1, x3 = X_test_noisy.shape\n",
    "X_test_noisy = X_test_noisy.reshape(x0, x1, x3, 1)\n",
    "\n",
    "cleaned_X_test = autoencoder.predict(\n",
    "    x = X_test_noisy,\n",
    "    batch_size = 128,\n",
    "    workers = 4,\n",
    ")\n",
    "\n",
    "x0, x1, x3, _ = cleaned_X_test.shape\n",
    "cleaned_X_test = cleaned_X_test.reshape(x0, x1, x3)\n",
    "X_test_noisy = X_test_noisy.reshape(x0, x1, x3)"
   ]
  },
  {
   "cell_type": "markdown",
   "id": "dba3fc7a",
   "metadata": {},
   "source": [
    "Let us view some images to see how our model worked on cleaning the noise within the test dataset images."
   ]
  },
  {
   "cell_type": "code",
   "execution_count": 16,
   "id": "6ccc1626",
   "metadata": {},
   "outputs": [
    {
     "data": {
      "text/plain": [
       "Text(0.5, 1.0, 'De-noised image')"
      ]
     },
     "execution_count": 16,
     "metadata": {},
     "output_type": "execute_result"
    },
    {
     "data": {
      "image/png": "[encoded data removed]",
      "text/plain": [
       "<Figure size 864x288 with 3 Axes>"
      ]
     },
     "metadata": {
      "needs_background": "light"
     },
     "output_type": "display_data"
    }
   ],
   "source": [
    "fig, axes = plt.subplots(1, 3, sharey=True, figsize=(12,4))\n",
    "axes[0].imshow(X_test_copy[0, :, :], cmap='gray')\n",
    "axes[0].set_title('Original image')\n",
    "axes[1].imshow(X_test_noisy[0, :, :], cmap='gray')\n",
    "axes[1].set_title('Noisy image')\n",
    "axes[2].imshow(cleaned_X_test[0, :, :], cmap='gray')\n",
    "axes[2].set_title('De-noised image')"
   ]
  },
  {
   "cell_type": "markdown",
   "id": "4ef1b9e5",
   "metadata": {},
   "source": [
    "As we can see, the de-noised result looks even better that the original image! With this, we come to the end of the first part of out project. In the second part, we will create a pipeline that can not only eliminate the noise, but also recognize the character/digit in the noisy image. "
   ]
  },
  {
   "cell_type": "code",
   "execution_count": null,
   "id": "920d76d8",
   "metadata": {},
   "outputs": [],
   "source": []
  }
 ],
 "metadata": {
  "kernelspec": {
   "display_name": "Python 3",
   "language": "python",
   "name": "python3"
  },
  "language_info": {
   "codemirror_mode": {
    "name": "ipython",
    "version": 3
   },
   "file_extension": ".py",
   "mimetype": "text/x-python",
   "name": "python",
   "nbconvert_exporter": "python",
   "pygments_lexer": "ipython3",
   "version": "3.8.8"
  }
 },
 "nbformat": 4,
 "nbformat_minor": 5
}
