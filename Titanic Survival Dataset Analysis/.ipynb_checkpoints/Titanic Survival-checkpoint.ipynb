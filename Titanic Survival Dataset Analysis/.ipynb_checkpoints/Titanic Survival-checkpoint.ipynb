{
 "cells": [
  {
   "cell_type": "markdown",
   "id": "eb45d9ea",
   "metadata": {},
   "source": [
    "# Exploring the Titanic Survival Dataset"
   ]
  },
  {
   "cell_type": "markdown",
   "id": "dc2170b8",
   "metadata": {},
   "source": [
    "We'll start off by loading the required base libraries for the project. These are the only ones we need to manipulate and visualize our data."
   ]
  },
  {
   "cell_type": "code",
   "execution_count": 1,
   "id": "121f5579",
   "metadata": {},
   "outputs": [],
   "source": [
    "#libraries required for data wrangling.\n",
    "import numpy as np\n",
    "import pandas as pd\n",
    "\n",
    "#libraries required for visual feature analysis.\n",
    "import matplotlib.pyplot as plt\n",
    "import seaborn as sns\n",
    "%matplotlib inline"
   ]
  },
  {
   "cell_type": "markdown",
   "id": "0cc93f5a",
   "metadata": {},
   "source": [
    "# Loading and Viewing the Training and Test Data"
   ]
  },
  {
   "cell_type": "code",
   "execution_count": 2,
   "id": "ff47a502",
   "metadata": {},
   "outputs": [],
   "source": [
    "train_df=pd.read_csv('titanic_train.csv')\n",
    "test_df=pd.read_csv('titanic_test.csv')"
   ]
  },
  {
   "cell_type": "code",
   "execution_count": 3,
   "id": "726fd3ef",
   "metadata": {},
   "outputs": [
    {
     "name": "stdout",
     "output_type": "stream",
     "text": [
      "Column names: ['PassengerId' 'Survived' 'Pclass' 'Name' 'Sex' 'Age' 'SibSp' 'Parch'\n",
      " 'Ticket' 'Fare' 'Cabin' 'Embarked']\n"
     ]
    },
    {
     "data": {
      "text/html": [
       "<div>\n",
       "<style scoped>\n",
       "    .dataframe tbody tr th:only-of-type {\n",
       "        vertical-align: middle;\n",
       "    }\n",
       "\n",
       "    .dataframe tbody tr th {\n",
       "        vertical-align: top;\n",
       "    }\n",
       "\n",
       "    .dataframe thead th {\n",
       "        text-align: right;\n",
       "    }\n",
       "</style>\n",
       "<table border=\"1\" class=\"dataframe\">\n",
       "  <thead>\n",
       "    <tr style=\"text-align: right;\">\n",
       "      <th></th>\n",
       "      <th>PassengerId</th>\n",
       "      <th>Survived</th>\n",
       "      <th>Pclass</th>\n",
       "      <th>Name</th>\n",
       "      <th>Sex</th>\n",
       "      <th>Age</th>\n",
       "      <th>SibSp</th>\n",
       "      <th>Parch</th>\n",
       "      <th>Ticket</th>\n",
       "      <th>Fare</th>\n",
       "      <th>Cabin</th>\n",
       "      <th>Embarked</th>\n",
       "    </tr>\n",
       "  </thead>\n",
       "  <tbody>\n",
       "    <tr>\n",
       "      <th>0</th>\n",
       "      <td>1</td>\n",
       "      <td>0</td>\n",
       "      <td>3</td>\n",
       "      <td>Braund, Mr. Owen Harris</td>\n",
       "      <td>male</td>\n",
       "      <td>22.0</td>\n",
       "      <td>1</td>\n",
       "      <td>0</td>\n",
       "      <td>A/5 21171</td>\n",
       "      <td>7.2500</td>\n",
       "      <td>NaN</td>\n",
       "      <td>S</td>\n",
       "    </tr>\n",
       "    <tr>\n",
       "      <th>1</th>\n",
       "      <td>2</td>\n",
       "      <td>1</td>\n",
       "      <td>1</td>\n",
       "      <td>Cumings, Mrs. John Bradley (Florence Briggs Th...</td>\n",
       "      <td>female</td>\n",
       "      <td>38.0</td>\n",
       "      <td>1</td>\n",
       "      <td>0</td>\n",
       "      <td>PC 17599</td>\n",
       "      <td>71.2833</td>\n",
       "      <td>C85</td>\n",
       "      <td>C</td>\n",
       "    </tr>\n",
       "    <tr>\n",
       "      <th>2</th>\n",
       "      <td>3</td>\n",
       "      <td>1</td>\n",
       "      <td>3</td>\n",
       "      <td>Heikkinen, Miss. Laina</td>\n",
       "      <td>female</td>\n",
       "      <td>26.0</td>\n",
       "      <td>0</td>\n",
       "      <td>0</td>\n",
       "      <td>STON/O2. 3101282</td>\n",
       "      <td>7.9250</td>\n",
       "      <td>NaN</td>\n",
       "      <td>S</td>\n",
       "    </tr>\n",
       "    <tr>\n",
       "      <th>3</th>\n",
       "      <td>4</td>\n",
       "      <td>1</td>\n",
       "      <td>1</td>\n",
       "      <td>Futrelle, Mrs. Jacques Heath (Lily May Peel)</td>\n",
       "      <td>female</td>\n",
       "      <td>35.0</td>\n",
       "      <td>1</td>\n",
       "      <td>0</td>\n",
       "      <td>113803</td>\n",
       "      <td>53.1000</td>\n",
       "      <td>C123</td>\n",
       "      <td>S</td>\n",
       "    </tr>\n",
       "    <tr>\n",
       "      <th>4</th>\n",
       "      <td>5</td>\n",
       "      <td>0</td>\n",
       "      <td>3</td>\n",
       "      <td>Allen, Mr. William Henry</td>\n",
       "      <td>male</td>\n",
       "      <td>35.0</td>\n",
       "      <td>0</td>\n",
       "      <td>0</td>\n",
       "      <td>373450</td>\n",
       "      <td>8.0500</td>\n",
       "      <td>NaN</td>\n",
       "      <td>S</td>\n",
       "    </tr>\n",
       "  </tbody>\n",
       "</table>\n",
       "</div>"
      ],
      "text/plain": [
       "   PassengerId  Survived  Pclass  \\\n",
       "0            1         0       3   \n",
       "1            2         1       1   \n",
       "2            3         1       3   \n",
       "3            4         1       1   \n",
       "4            5         0       3   \n",
       "\n",
       "                                                Name     Sex   Age  SibSp  \\\n",
       "0                            Braund, Mr. Owen Harris    male  22.0      1   \n",
       "1  Cumings, Mrs. John Bradley (Florence Briggs Th...  female  38.0      1   \n",
       "2                             Heikkinen, Miss. Laina  female  26.0      0   \n",
       "3       Futrelle, Mrs. Jacques Heath (Lily May Peel)  female  35.0      1   \n",
       "4                           Allen, Mr. William Henry    male  35.0      0   \n",
       "\n",
       "   Parch            Ticket     Fare Cabin Embarked  \n",
       "0      0         A/5 21171   7.2500   NaN        S  \n",
       "1      0          PC 17599  71.2833   C85        C  \n",
       "2      0  STON/O2. 3101282   7.9250   NaN        S  \n",
       "3      0            113803  53.1000  C123        S  \n",
       "4      0            373450   8.0500   NaN        S  "
      ]
     },
     "execution_count": 3,
     "metadata": {},
     "output_type": "execute_result"
    }
   ],
   "source": [
    "print(\"Column names: {}\".format(train_df.columns.values))\n",
    "train_df.head()"
   ]
  },
  {
   "cell_type": "markdown",
   "id": "265ce075",
   "metadata": {},
   "source": [
    "As we can see, we've the following 12 columns:\n",
    "*PassengerID : the unique id of the individual passengers\n",
    "* Survived: survival information, 0 indicates failure(death) while 1 indicates success(survival)\n",
    "* Pclass: The class in which the passengers were travelling.\n",
    "* Name: Name of the passengers.\n",
    "* Sex: Passengers' gender.\n",
    "* Age: Passengers' Age.\n",
    "* Parch: Number of parents/gaurdians abord the titanic for each passenger.\n",
    "* SibSB: Number of siblings aboard the titanic for each passenger.\n",
    "* Ticket: ticket number of each passenger.\n",
    "* Fare: Fare that each passenger paid for the voyage.\n",
    "* Cabin: Cabin number where each passenger stayed.\n",
    "* Embarked: The city from which each passenger embarked upon the titanic.\n",
    "\n",
    "The Survived Column is obviously our label i.e. this is what we have to predict, and it is thus missing from the test set.\n",
    "\n",
    "As for the other columns, categorizing them would help us better understand and decide upon the features.\n",
    "\n",
    "The following are the categories and the labels that fit in those categories:\n",
    "\n",
    "* Categorical: Sex and Embarked.\n",
    "* Ordinal: Pclass\n",
    "* Numerical: \n",
    "    * Continuous: Age and Fare\n",
    "    * Discreet: SibSp and Parch\n",
    "* Alphanumerical: Ticket\n",
    "\n",
    "NOTE: Both `Name` and `PassengerId` can be treated as unique identifiers for each passenger, and thus aren't independant variables that our outcome depends upon. Intuitively, it makes sense because calamity is not subjective."
   ]
  },
  {
   "cell_type": "markdown",
   "id": "714ab298",
   "metadata": {},
   "source": [
    "# Looking for patterns"
   ]
  },
  {
   "cell_type": "markdown",
   "id": "f3315380",
   "metadata": {},
   "source": [
    "Now that we understand what our training data consists of, the next step is finding patterns in the data, both good and bad. This will help us decide upon which features may contribute positively or negatively towards model optimization."
   ]
  },
  {
   "cell_type": "markdown",
   "id": "1ca1aade",
   "metadata": {},
   "source": [
    "## 1. Null Values"
   ]
  },
  {
   "cell_type": "markdown",
   "id": "b7c1f44e",
   "metadata": {},
   "source": [
    "Let's start by taking a look at the amount of null values in the training data."
   ]
  },
  {
   "cell_type": "code",
   "execution_count": 4,
   "id": "516f6e12",
   "metadata": {},
   "outputs": [
    {
     "name": "stdout",
     "output_type": "stream",
     "text": [
      "Null values in training data:\n",
      "PassengerId      0\n",
      "Survived         0\n",
      "Pclass           0\n",
      "Name             0\n",
      "Sex              0\n",
      "Age            177\n",
      "SibSp            0\n",
      "Parch            0\n",
      "Ticket           0\n",
      "Fare             0\n",
      "Cabin          687\n",
      "Embarked         2\n",
      "dtype: int64\n",
      "\n",
      "Null values in test data:\n",
      "PassengerId      0\n",
      "Pclass           0\n",
      "Name             0\n",
      "Sex              0\n",
      "Age             86\n",
      "SibSp            0\n",
      "Parch            0\n",
      "Ticket           0\n",
      "Fare             1\n",
      "Cabin          327\n",
      "Embarked         0\n",
      "dtype: int64\n"
     ]
    }
   ],
   "source": [
    "print(\"Null values in training data:\\n{}\\n\\nNull values in test data:\\n{}\".format(train_df.isnull().sum(), test_df.isnull().sum()))"
   ]
  },
  {
   "cell_type": "markdown",
   "id": "b3acb026",
   "metadata": {},
   "source": [
    "Clearly enough, `Cabin` consits of the most `Nan` values followed by `Age` in case of both training and test data.\n",
    "\n",
    "Null values generally give machine learning models a very hard time and can lead to substantial reduction in any model's performance. So, we now know that we'll have to deal with these."
   ]
  },
  {
   "cell_type": "markdown",
   "id": "daee8231",
   "metadata": {},
   "source": [
    "## 2. Numerical Values' Distribution"
   ]
  },
  {
   "cell_type": "code",
   "execution_count": 5,
   "id": "817fd9e8",
   "metadata": {},
   "outputs": [
    {
     "data": {
      "text/html": [
       "<div>\n",
       "<style scoped>\n",
       "    .dataframe tbody tr th:only-of-type {\n",
       "        vertical-align: middle;\n",
       "    }\n",
       "\n",
       "    .dataframe tbody tr th {\n",
       "        vertical-align: top;\n",
       "    }\n",
       "\n",
       "    .dataframe thead th {\n",
       "        text-align: right;\n",
       "    }\n",
       "</style>\n",
       "<table border=\"1\" class=\"dataframe\">\n",
       "  <thead>\n",
       "    <tr style=\"text-align: right;\">\n",
       "      <th></th>\n",
       "      <th>PassengerId</th>\n",
       "      <th>Survived</th>\n",
       "      <th>Pclass</th>\n",
       "      <th>Age</th>\n",
       "      <th>SibSp</th>\n",
       "      <th>Parch</th>\n",
       "      <th>Fare</th>\n",
       "    </tr>\n",
       "  </thead>\n",
       "  <tbody>\n",
       "    <tr>\n",
       "      <th>count</th>\n",
       "      <td>891.000000</td>\n",
       "      <td>891.000000</td>\n",
       "      <td>891.000000</td>\n",
       "      <td>714.000000</td>\n",
       "      <td>891.000000</td>\n",
       "      <td>891.000000</td>\n",
       "      <td>891.000000</td>\n",
       "    </tr>\n",
       "    <tr>\n",
       "      <th>mean</th>\n",
       "      <td>446.000000</td>\n",
       "      <td>0.383838</td>\n",
       "      <td>2.308642</td>\n",
       "      <td>29.699118</td>\n",
       "      <td>0.523008</td>\n",
       "      <td>0.381594</td>\n",
       "      <td>32.204208</td>\n",
       "    </tr>\n",
       "    <tr>\n",
       "      <th>std</th>\n",
       "      <td>257.353842</td>\n",
       "      <td>0.486592</td>\n",
       "      <td>0.836071</td>\n",
       "      <td>14.526497</td>\n",
       "      <td>1.102743</td>\n",
       "      <td>0.806057</td>\n",
       "      <td>49.693429</td>\n",
       "    </tr>\n",
       "    <tr>\n",
       "      <th>min</th>\n",
       "      <td>1.000000</td>\n",
       "      <td>0.000000</td>\n",
       "      <td>1.000000</td>\n",
       "      <td>0.420000</td>\n",
       "      <td>0.000000</td>\n",
       "      <td>0.000000</td>\n",
       "      <td>0.000000</td>\n",
       "    </tr>\n",
       "    <tr>\n",
       "      <th>25%</th>\n",
       "      <td>223.500000</td>\n",
       "      <td>0.000000</td>\n",
       "      <td>2.000000</td>\n",
       "      <td>20.125000</td>\n",
       "      <td>0.000000</td>\n",
       "      <td>0.000000</td>\n",
       "      <td>7.910400</td>\n",
       "    </tr>\n",
       "    <tr>\n",
       "      <th>50%</th>\n",
       "      <td>446.000000</td>\n",
       "      <td>0.000000</td>\n",
       "      <td>3.000000</td>\n",
       "      <td>28.000000</td>\n",
       "      <td>0.000000</td>\n",
       "      <td>0.000000</td>\n",
       "      <td>14.454200</td>\n",
       "    </tr>\n",
       "    <tr>\n",
       "      <th>75%</th>\n",
       "      <td>668.500000</td>\n",
       "      <td>1.000000</td>\n",
       "      <td>3.000000</td>\n",
       "      <td>38.000000</td>\n",
       "      <td>1.000000</td>\n",
       "      <td>0.000000</td>\n",
       "      <td>31.000000</td>\n",
       "    </tr>\n",
       "    <tr>\n",
       "      <th>max</th>\n",
       "      <td>891.000000</td>\n",
       "      <td>1.000000</td>\n",
       "      <td>3.000000</td>\n",
       "      <td>80.000000</td>\n",
       "      <td>8.000000</td>\n",
       "      <td>6.000000</td>\n",
       "      <td>512.329200</td>\n",
       "    </tr>\n",
       "  </tbody>\n",
       "</table>\n",
       "</div>"
      ],
      "text/plain": [
       "       PassengerId    Survived      Pclass         Age       SibSp  \\\n",
       "count   891.000000  891.000000  891.000000  714.000000  891.000000   \n",
       "mean    446.000000    0.383838    2.308642   29.699118    0.523008   \n",
       "std     257.353842    0.486592    0.836071   14.526497    1.102743   \n",
       "min       1.000000    0.000000    1.000000    0.420000    0.000000   \n",
       "25%     223.500000    0.000000    2.000000   20.125000    0.000000   \n",
       "50%     446.000000    0.000000    3.000000   28.000000    0.000000   \n",
       "75%     668.500000    1.000000    3.000000   38.000000    1.000000   \n",
       "max     891.000000    1.000000    3.000000   80.000000    8.000000   \n",
       "\n",
       "            Parch        Fare  \n",
       "count  891.000000  891.000000  \n",
       "mean     0.381594   32.204208  \n",
       "std      0.806057   49.693429  \n",
       "min      0.000000    0.000000  \n",
       "25%      0.000000    7.910400  \n",
       "50%      0.000000   14.454200  \n",
       "75%      0.000000   31.000000  \n",
       "max      6.000000  512.329200  "
      ]
     },
     "execution_count": 5,
     "metadata": {},
     "output_type": "execute_result"
    }
   ],
   "source": [
    "train_df.describe()"
   ]
  },
  {
   "cell_type": "markdown",
   "id": "785b01ae",
   "metadata": {},
   "source": [
    "In the above table, we can observe:\n",
    "* There are a total of 891 values in each column of the dataset.\n",
    "* The survival rate among these 891 passengers is around 38%, in comparison to the factual 32% survival rate of the incident reports.\n",
    "* Nearly 30% of the passengers had siblings aboard.\n",
    "* Fare variation is low, with the exception of one person paying a relatively large amount of 512 dollars. This is an outlier.\n",
    "* The mean age of the passengers is 29 years with a standard deviation of 14. Nearly 75% of the passengers are under 38 years of age. A few outliers exist(above 80 years).\n",
    "* Most of the passengers(nearly 75%) did not travel with parents/gaurdians."
   ]
  },
  {
   "cell_type": "markdown",
   "id": "dc865a87",
   "metadata": {},
   "source": [
    "## 3. Categorical Values' Distribution"
   ]
  },
  {
   "cell_type": "code",
   "execution_count": 6,
   "id": "42fdb275",
   "metadata": {},
   "outputs": [
    {
     "data": {
      "text/html": [
       "<div>\n",
       "<style scoped>\n",
       "    .dataframe tbody tr th:only-of-type {\n",
       "        vertical-align: middle;\n",
       "    }\n",
       "\n",
       "    .dataframe tbody tr th {\n",
       "        vertical-align: top;\n",
       "    }\n",
       "\n",
       "    .dataframe thead th {\n",
       "        text-align: right;\n",
       "    }\n",
       "</style>\n",
       "<table border=\"1\" class=\"dataframe\">\n",
       "  <thead>\n",
       "    <tr style=\"text-align: right;\">\n",
       "      <th></th>\n",
       "      <th>Name</th>\n",
       "      <th>Sex</th>\n",
       "      <th>Ticket</th>\n",
       "      <th>Cabin</th>\n",
       "      <th>Embarked</th>\n",
       "    </tr>\n",
       "  </thead>\n",
       "  <tbody>\n",
       "    <tr>\n",
       "      <th>count</th>\n",
       "      <td>891</td>\n",
       "      <td>891</td>\n",
       "      <td>891</td>\n",
       "      <td>204</td>\n",
       "      <td>889</td>\n",
       "    </tr>\n",
       "    <tr>\n",
       "      <th>unique</th>\n",
       "      <td>891</td>\n",
       "      <td>2</td>\n",
       "      <td>681</td>\n",
       "      <td>147</td>\n",
       "      <td>3</td>\n",
       "    </tr>\n",
       "    <tr>\n",
       "      <th>top</th>\n",
       "      <td>Kenyon, Mrs. Frederick R (Marion)</td>\n",
       "      <td>male</td>\n",
       "      <td>347082</td>\n",
       "      <td>G6</td>\n",
       "      <td>S</td>\n",
       "    </tr>\n",
       "    <tr>\n",
       "      <th>freq</th>\n",
       "      <td>1</td>\n",
       "      <td>577</td>\n",
       "      <td>7</td>\n",
       "      <td>4</td>\n",
       "      <td>644</td>\n",
       "    </tr>\n",
       "  </tbody>\n",
       "</table>\n",
       "</div>"
      ],
      "text/plain": [
       "                                     Name   Sex  Ticket Cabin Embarked\n",
       "count                                 891   891     891   204      889\n",
       "unique                                891     2     681   147        3\n",
       "top     Kenyon, Mrs. Frederick R (Marion)  male  347082    G6        S\n",
       "freq                                    1   577       7     4      644"
      ]
     },
     "execution_count": 6,
     "metadata": {},
     "output_type": "execute_result"
    }
   ],
   "source": [
    "train_df.describe(include = ['O'])"
   ]
  },
  {
   "cell_type": "markdown",
   "id": "b010081f",
   "metadata": {},
   "source": [
    "* As surmised before, all 891 passengers' names are unique.\n",
    "* 577/891 or around 65% of the passengers are male.\n",
    "* Ticket numbers have 210 duplicate values.\n",
    "* Most of the passengers have embarked on the voyage from the city denoted by `S`.\n",
    "* Out of 204 cabin values, only 147 are unique-indicating the fact that several people shared cabins."
   ]
  },
  {
   "cell_type": "markdown",
   "id": "19abaa07",
   "metadata": {},
   "source": [
    "# Making the useful corrections"
   ]
  },
  {
   "cell_type": "markdown",
   "id": "01c5b61a",
   "metadata": {},
   "source": [
    "Using the above observations, we can do the following from the get-go:\n",
    "* Drop the `Name` since they're not features(we could do something with them but lets keep this one simple).\n",
    "* Drop `Cabin` because of its high null value count.\n",
    "* Drop `Ticket` because of its low unique value count.\n",
    "* Additionally, drop `PassengerId` from the training data.\n",
    "\n",
    "One thing to note here, that the default parameter for `axis` in `df.drop()` command is 0, which means it looks for the specified values to be dropped in the rows. It's easy to forget about this and spend 20 minutes debugging what went wrong in the code. *Always sepcify axis = 1 while dropping rows form a dataframe.*"
   ]
  },
  {
   "cell_type": "code",
   "execution_count": 7,
   "id": "834dacbf",
   "metadata": {},
   "outputs": [
    {
     "name": "stdout",
     "output_type": "stream",
     "text": [
      "Column Names: ['Age' 'Embarked' 'Fare' 'Parch' 'PassengerId' 'Pclass' 'Sex' 'SibSp'\n",
      " 'Survived']\n"
     ]
    }
   ],
   "source": [
    "to_drop = ['Name', 'Cabin', 'Ticket']\n",
    "train_df.drop(to_drop, axis = 1, inplace = True)\n",
    "test_df.drop(to_drop, axis = 1, inplace = True)\n",
    "\n",
    "train_df.drop('PassengerId', axis = 1, inplace = True)\n",
    "print(\"Column Names: {}\".format(np.unique(train_df.columns.values.tolist() + test_df.columns.values.tolist())))"
   ]
  },
  {
   "cell_type": "markdown",
   "id": "e410df56",
   "metadata": {},
   "source": [
    "Now that that's taken care of, we have only one thing to worry about, that is the `Age` column which will be dealth with further."
   ]
  },
  {
   "cell_type": "markdown",
   "id": "5c6a4413",
   "metadata": {},
   "source": [
    "# Correlation among and relevance of features"
   ]
  },
  {
   "cell_type": "markdown",
   "id": "b7852213",
   "metadata": {},
   "source": [
    "## 1. Pivoting indivisual features."
   ]
  },
  {
   "cell_type": "markdown",
   "id": "007a37cf",
   "metadata": {},
   "source": [
    "In this step, we \"pivot\" each feature with it's survival rate and print the result. The goal here is to look for patterns and answer natural questions of the form : *Did the Gender/Age/class of the passenger have any relation with their survival?\""
   ]
  },
  {
   "cell_type": "code",
   "execution_count": 8,
   "id": "45104242",
   "metadata": {},
   "outputs": [
    {
     "name": "stdout",
     "output_type": "stream",
     "text": [
      "Feature: Age\n",
      "\n",
      "       Age  Survived\n",
      "0    0.42       1.0\n",
      "9    5.00       1.0\n",
      "79  63.00       1.0\n",
      "68  53.00       1.0\n",
      "1    0.67       1.0\n",
      "..    ...       ...\n",
      "37  28.50       0.0\n",
      "49  36.50       0.0\n",
      "46  34.50       0.0\n",
      "26  20.50       0.0\n",
      "30  23.50       0.0\n",
      "\n",
      "[88 rows x 2 columns]\n",
      "Feature: Embarked\n",
      "\n",
      "   Embarked  Survived\n",
      "0        C  0.553571\n",
      "1        Q  0.389610\n",
      "2        S  0.336957\n",
      "Feature: Fare\n",
      "\n",
      "          Fare  Survived\n",
      "247  512.3292       1.0\n",
      "196   57.9792       1.0\n",
      "89    13.8583       1.0\n",
      "88    13.7917       1.0\n",
      "86    13.4167       1.0\n",
      "..        ...       ...\n",
      "103   15.5500       0.0\n",
      "180   47.1000       0.0\n",
      "179   46.9000       0.0\n",
      "178   42.4000       0.0\n",
      "124   21.0750       0.0\n",
      "\n",
      "[248 rows x 2 columns]\n",
      "Feature: Parch\n",
      "\n",
      "    Parch  Survived\n",
      "3      3  0.600000\n",
      "1      1  0.550847\n",
      "2      2  0.500000\n",
      "0      0  0.343658\n",
      "5      5  0.200000\n",
      "4      4  0.000000\n",
      "6      6  0.000000\n",
      "Feature: Pclass\n",
      "\n",
      "    Pclass  Survived\n",
      "0       1  0.629630\n",
      "1       2  0.472826\n",
      "2       3  0.242363\n",
      "Feature: Sex\n",
      "\n",
      "       Sex  Survived\n",
      "0  female  0.742038\n",
      "1    male  0.188908\n",
      "Feature: SibSp\n",
      "\n",
      "    SibSp  Survived\n",
      "1      1  0.535885\n",
      "2      2  0.464286\n",
      "0      0  0.345395\n",
      "3      3  0.250000\n",
      "4      4  0.166667\n",
      "5      5  0.000000\n",
      "6      8  0.000000\n"
     ]
    }
   ],
   "source": [
    "pivots = ['Age', 'Embarked', 'Fare', 'Parch', 'Pclass', 'Sex', 'SibSp']\n",
    "for pivot in pivots:\n",
    "    print(\"Feature: {}\\n\\n\".format(pivot), train_df[[pivot, 'Survived']].groupby([pivot], as_index=False).mean().sort_values(by='Survived', ascending=False))"
   ]
  },
  {
   "cell_type": "markdown",
   "id": "a2271b7c",
   "metadata": {},
   "source": [
    "* The gender of the passengers have a very strong correlation with survival rate. This feature is thus crucial for prediction.\n",
    "* SibSp and Parch values have almost no correlation with survival above a certain value. Thus we can combine these features to form a better predictor.\n",
    "* Passenger's class also has a high correlation with survival rate."
   ]
  },
  {
   "cell_type": "markdown",
   "id": "3bdc2af7",
   "metadata": {},
   "source": [
    "## 2. Visualizing relevant features"
   ]
  },
  {
   "cell_type": "markdown",
   "id": "d2228e37",
   "metadata": {},
   "source": [
    "We can observe some relationships within and among features by visually depicting their survival rates next to each other using a graph.\n",
    "\n",
    "Lets's begin by plotting the different `Pclass` categories next to each other based on their corresponding survival rates."
   ]
  },
  {
   "cell_type": "code",
   "execution_count": 9,
   "id": "5e5a9824",
   "metadata": {},
   "outputs": [
    {
     "data": {
      "image/png": "[encoded data removed]",
      "text/plain": [
       "<Figure size 791.36x734.4 with 6 Axes>"
      ]
     },
     "metadata": {
      "needs_background": "light"
     },
     "output_type": "display_data"
    }
   ],
   "source": [
    "grid = sns.FacetGrid(train_df, col='Survived', row='Pclass', height=3.4, aspect=1.6)\n",
    "grid.map(plt.hist, 'Age', alpha=.6, bins=10)\n",
    "grid.add_legend();"
   ]
  },
  {
   "cell_type": "markdown",
   "id": "bd96d6d0",
   "metadata": {},
   "source": [
    "This is an interesting result and depicts the need of understanding the data well.\n",
    "\n",
    "As we see here, the passengers of class 3 had a significantly lesser surival rate in comparison to those who were travelling in class 1.\n",
    "Although we might have guessed this intuitively, we can now evidently conclude(in a non-statistical sense) that higher class travelling passengers did have a higher rate of survival."
   ]
  },
  {
   "cell_type": "code",
   "execution_count": 10,
   "id": "7a582322",
   "metadata": {},
   "outputs": [
    {
     "name": "stdout",
     "output_type": "stream",
     "text": [
      "Mean Age of Passengers: 29.69911764705882\n"
     ]
    },
    {
     "data": {
      "text/plain": [
       "<seaborn.axisgrid.FacetGrid at 0x20440f47e20>"
      ]
     },
     "execution_count": 10,
     "metadata": {},
     "output_type": "execute_result"
    },
    {
     "data": {
      "image/png": "[encoded data removed]",
      "text/plain": [
       "<Figure size 783.36x244.8 with 2 Axes>"
      ]
     },
     "metadata": {
      "needs_background": "light"
     },
     "output_type": "display_data"
    }
   ],
   "source": [
    "grid = sns.FacetGrid(train_df, col = 'Survived', height = 3.4, aspect = 1.6)\n",
    "print(\"Mean Age of Passengers: {}\".format(train_df['Age'].mean()))\n",
    "grid.map(plt.hist, 'Age', alpha = 0.6,  bins = 20)"
   ]
  },
  {
   "cell_type": "markdown",
   "id": "30000d52",
   "metadata": {},
   "source": [
    "* Infants, and children (age <= 5) survived in the largest amount.\n",
    "* Most deaths are observed in adults of 15-30 years of age.\n",
    "* The only person above the age of 80 survived as well.\n",
    "\n",
    "Thus, we should also include age in our model features and find a way to fill in the gaps for missing features.\n",
    "\n",
    "The mean age of the passengers is observed to be 29.69, which can be used to substitute for the `NaN` values."
   ]
  },
  {
   "cell_type": "code",
   "execution_count": 11,
   "id": "ccabdd1c",
   "metadata": {},
   "outputs": [
    {
     "name": "stderr",
     "output_type": "stream",
     "text": [
      "C:\\Users\\naror\\anaconda3\\lib\\site-packages\\seaborn\\axisgrid.py:316: UserWarning: The `size` parameter has been renamed to `height`; please update your code.\n",
      "  warnings.warn(msg, UserWarning)\n",
      "C:\\Users\\naror\\anaconda3\\lib\\site-packages\\seaborn\\axisgrid.py:643: UserWarning: Using the barplot function without specifying `order` is likely to produce an incorrect plot.\n",
      "  warnings.warn(warning)\n"
     ]
    },
    {
     "data": {
      "text/plain": [
       "<seaborn.axisgrid.FacetGrid at 0x20440dc6fd0>"
      ]
     },
     "execution_count": 11,
     "metadata": {},
     "output_type": "execute_result"
    },
    {
     "data": {
      "image/png": "[encoded data removed]",
      "text/plain": [
       "<Figure size 791.36x734.4 with 6 Axes>"
      ]
     },
     "metadata": {
      "needs_background": "light"
     },
     "output_type": "display_data"
    }
   ],
   "source": [
    "grid = sns.FacetGrid(train_df, row = 'Embarked', col = 'Survived', size = 3.4, aspect = 1.6)\n",
    "grid.map(sns.barplot, 'Sex', 'Fare', alpha = 0.6, ci = None)\n",
    "grid.add_legend()"
   ]
  },
  {
   "cell_type": "markdown",
   "id": "05f31b7d",
   "metadata": {},
   "source": [
    "* In the first two bar graphs, we can observe the correlation between `fare` and `Survived` as well as between `Embarked` and `Survived`.\n",
    "* People who paid more fair tended to survive more. Thus, we should include the `Fare` column in our feature set.\n",
    "* The third bar graph shows absence of correlation between the `Fare` and `Sex` column.\n"
   ]
  },
  {
   "cell_type": "markdown",
   "id": "b77c72ed",
   "metadata": {},
   "source": [
    "# Wrangling the Data"
   ]
  },
  {
   "cell_type": "markdown",
   "id": "f5bf8402",
   "metadata": {},
   "source": [
    "Now that we know the following:\n",
    "* The overall dimensions and constituents of the dataset.\n",
    "* The correlation among some features, and their correlation with our label.\n",
    "* The amount of missing values in our dataset.\n",
    "* The relevant features that we'd like to include in our model training.\n",
    "\n",
    "We're more than prepared to wrangle our data. Note that we have already dropped the `Name`, `Ticket`, and `Cabin` columns while analyzing. So the first step is:"
   ]
  },
  {
   "cell_type": "markdown",
   "id": "f2880fe2",
   "metadata": {},
   "source": [
    "## Converting categorical non-numeric features into categorical numeric ones\n",
    "Let's take a look at how our training dataframe looks currently:"
   ]
  },
  {
   "cell_type": "code",
   "execution_count": 12,
   "id": "7d471cec",
   "metadata": {},
   "outputs": [
    {
     "data": {
      "text/html": [
       "<div>\n",
       "<style scoped>\n",
       "    .dataframe tbody tr th:only-of-type {\n",
       "        vertical-align: middle;\n",
       "    }\n",
       "\n",
       "    .dataframe tbody tr th {\n",
       "        vertical-align: top;\n",
       "    }\n",
       "\n",
       "    .dataframe thead th {\n",
       "        text-align: right;\n",
       "    }\n",
       "</style>\n",
       "<table border=\"1\" class=\"dataframe\">\n",
       "  <thead>\n",
       "    <tr style=\"text-align: right;\">\n",
       "      <th></th>\n",
       "      <th>Survived</th>\n",
       "      <th>Pclass</th>\n",
       "      <th>Sex</th>\n",
       "      <th>Age</th>\n",
       "      <th>SibSp</th>\n",
       "      <th>Parch</th>\n",
       "      <th>Fare</th>\n",
       "      <th>Embarked</th>\n",
       "    </tr>\n",
       "  </thead>\n",
       "  <tbody>\n",
       "    <tr>\n",
       "      <th>0</th>\n",
       "      <td>0</td>\n",
       "      <td>3</td>\n",
       "      <td>male</td>\n",
       "      <td>22.0</td>\n",
       "      <td>1</td>\n",
       "      <td>0</td>\n",
       "      <td>7.2500</td>\n",
       "      <td>S</td>\n",
       "    </tr>\n",
       "    <tr>\n",
       "      <th>1</th>\n",
       "      <td>1</td>\n",
       "      <td>1</td>\n",
       "      <td>female</td>\n",
       "      <td>38.0</td>\n",
       "      <td>1</td>\n",
       "      <td>0</td>\n",
       "      <td>71.2833</td>\n",
       "      <td>C</td>\n",
       "    </tr>\n",
       "    <tr>\n",
       "      <th>2</th>\n",
       "      <td>1</td>\n",
       "      <td>3</td>\n",
       "      <td>female</td>\n",
       "      <td>26.0</td>\n",
       "      <td>0</td>\n",
       "      <td>0</td>\n",
       "      <td>7.9250</td>\n",
       "      <td>S</td>\n",
       "    </tr>\n",
       "    <tr>\n",
       "      <th>3</th>\n",
       "      <td>1</td>\n",
       "      <td>1</td>\n",
       "      <td>female</td>\n",
       "      <td>35.0</td>\n",
       "      <td>1</td>\n",
       "      <td>0</td>\n",
       "      <td>53.1000</td>\n",
       "      <td>S</td>\n",
       "    </tr>\n",
       "    <tr>\n",
       "      <th>4</th>\n",
       "      <td>0</td>\n",
       "      <td>3</td>\n",
       "      <td>male</td>\n",
       "      <td>35.0</td>\n",
       "      <td>0</td>\n",
       "      <td>0</td>\n",
       "      <td>8.0500</td>\n",
       "      <td>S</td>\n",
       "    </tr>\n",
       "  </tbody>\n",
       "</table>\n",
       "</div>"
      ],
      "text/plain": [
       "   Survived  Pclass     Sex   Age  SibSp  Parch     Fare Embarked\n",
       "0         0       3    male  22.0      1      0   7.2500        S\n",
       "1         1       1  female  38.0      1      0  71.2833        C\n",
       "2         1       3  female  26.0      0      0   7.9250        S\n",
       "3         1       1  female  35.0      1      0  53.1000        S\n",
       "4         0       3    male  35.0      0      0   8.0500        S"
      ]
     },
     "execution_count": 12,
     "metadata": {},
     "output_type": "execute_result"
    }
   ],
   "source": [
    "train_df.head()"
   ]
  },
  {
   "cell_type": "code",
   "execution_count": 13,
   "id": "81ba6c5f",
   "metadata": {},
   "outputs": [
    {
     "name": "stdout",
     "output_type": "stream",
     "text": [
      "Unique values in : \n",
      "Sex: {'male', 'female'}\n",
      "Embarked:{'S', 'Q', 'C', nan}\n"
     ]
    }
   ],
   "source": [
    "print(\"Unique values in : \\nSex: {}\\nEmbarked:{}\".format(set(train_df['Sex'].tolist()), set(train_df['Embarked'].tolist())))"
   ]
  },
  {
   "cell_type": "markdown",
   "id": "4dc2c3e7",
   "metadata": {},
   "source": [
    "The only categorical features right now are:\n",
    "* `Sex`: values from the set {`male`, `female`}.\n",
    "* `Embarked`: values from the set {`S`, `Q`, `C`} and some missing values.\n",
    "\n",
    "We can use a simple function to convert both of these into categorical values by storing the unique values in a dictionary and mapping each unique value to the equivalent unique integer. Lookup one-hot-encoding for more on how this works."
   ]
  },
  {
   "cell_type": "code",
   "execution_count": 14,
   "id": "adee165b",
   "metadata": {},
   "outputs": [
    {
     "name": "stderr",
     "output_type": "stream",
     "text": [
      "<ipython-input-14-954a8c1c1a30>:11: SettingWithCopyWarning: \n",
      "A value is trying to be set on a copy of a slice from a DataFrame.\n",
      "Try using .loc[row_indexer,col_indexer] = value instead\n",
      "\n",
      "See the caveats in the documentation: https://pandas.pydata.org/pandas-docs/stable/user_guide/indexing.html#returning-a-view-versus-a-copy\n",
      "  df[col] = list(map(lambda val : val_dict[val], df[col]))\n"
     ]
    },
    {
     "data": {
      "text/html": [
       "<div>\n",
       "<style scoped>\n",
       "    .dataframe tbody tr th:only-of-type {\n",
       "        vertical-align: middle;\n",
       "    }\n",
       "\n",
       "    .dataframe tbody tr th {\n",
       "        vertical-align: top;\n",
       "    }\n",
       "\n",
       "    .dataframe thead th {\n",
       "        text-align: right;\n",
       "    }\n",
       "</style>\n",
       "<table border=\"1\" class=\"dataframe\">\n",
       "  <thead>\n",
       "    <tr style=\"text-align: right;\">\n",
       "      <th></th>\n",
       "      <th>Sex</th>\n",
       "      <th>Embarked</th>\n",
       "    </tr>\n",
       "  </thead>\n",
       "  <tbody>\n",
       "    <tr>\n",
       "      <th>0</th>\n",
       "      <td>0</td>\n",
       "      <td>0</td>\n",
       "    </tr>\n",
       "    <tr>\n",
       "      <th>1</th>\n",
       "      <td>1</td>\n",
       "      <td>2</td>\n",
       "    </tr>\n",
       "    <tr>\n",
       "      <th>2</th>\n",
       "      <td>1</td>\n",
       "      <td>0</td>\n",
       "    </tr>\n",
       "    <tr>\n",
       "      <th>3</th>\n",
       "      <td>1</td>\n",
       "      <td>0</td>\n",
       "    </tr>\n",
       "    <tr>\n",
       "      <th>4</th>\n",
       "      <td>0</td>\n",
       "      <td>0</td>\n",
       "    </tr>\n",
       "  </tbody>\n",
       "</table>\n",
       "</div>"
      ],
      "text/plain": [
       "   Sex  Embarked\n",
       "0    0         0\n",
       "1    1         2\n",
       "2    1         0\n",
       "3    1         0\n",
       "4    0         0"
      ]
     },
     "execution_count": 14,
     "metadata": {},
     "output_type": "execute_result"
    }
   ],
   "source": [
    "def convert_to_numeric(df):\n",
    "    for col in df.columns.values:\n",
    "        val_dict = {}\n",
    "        if df[col].dtype != np.int64 and df[col].dtype != np.float64:\n",
    "            unique_vals = set(df[col].values.tolist())\n",
    "            val_id = 0\n",
    "            for unique_ in unique_vals:\n",
    "                if unique_ not in val_dict:\n",
    "                    val_dict[unique_] = val_id\n",
    "                    val_id += 1\n",
    "            df[col] = list(map(lambda val : val_dict[val], df[col]))\n",
    "    return df\n",
    "\n",
    "\n",
    "train_df_copy = convert_to_numeric(train_df[['Sex', 'Embarked']])\n",
    "train_df_copy.head()"
   ]
  },
  {
   "cell_type": "markdown",
   "id": "9dc742d4",
   "metadata": {},
   "source": [
    "Our copy of the training dataframe now contains only numerical features, but if you look carefully, it converted `NaN` type values into another unique class as well.\n",
    "\n",
    "This is undesirable and can cause loss of accuracy in our models, so before we apply the function to the actual training dataframe, it is better to deal with those missing values first.\n",
    "\n",
    "Since the number of missing values is less, we can just fill them with the most frequently occuring value in the `Embarked` column, which as we'll see below, is `S`."
   ]
  },
  {
   "cell_type": "code",
   "execution_count": 15,
   "id": "0bf0419f",
   "metadata": {},
   "outputs": [
    {
     "data": {
      "text/plain": [
       "'S'"
      ]
     },
     "execution_count": 15,
     "metadata": {},
     "output_type": "execute_result"
    }
   ],
   "source": [
    "mode_embarked = train_df.Embarked.dropna().mode()[0]\n",
    "mode_embarked"
   ]
  },
  {
   "cell_type": "code",
   "execution_count": 16,
   "id": "8ad25cc8",
   "metadata": {},
   "outputs": [
    {
     "data": {
      "text/plain": [
       "{'C', 'Q', 'S'}"
      ]
     },
     "execution_count": 16,
     "metadata": {},
     "output_type": "execute_result"
    }
   ],
   "source": [
    "train_df['Embarked'] = train_df.Embarked.fillna('S')\n",
    "set(train_df['Embarked'].tolist())"
   ]
  },
  {
   "cell_type": "code",
   "execution_count": 17,
   "id": "3385d9d4",
   "metadata": {},
   "outputs": [
    {
     "data": {
      "text/plain": [
       "{'C', 'Q', 'S'}"
      ]
     },
     "execution_count": 17,
     "metadata": {},
     "output_type": "execute_result"
    }
   ],
   "source": [
    "test_df['Embarked'] = test_df.Embarked.fillna('S')\n",
    "set(test_df.Embarked.tolist())"
   ]
  },
  {
   "cell_type": "markdown",
   "id": "69963a58",
   "metadata": {},
   "source": [
    "Now, we can safely convert both our `Sex` and `Embarked` categorical features from non-numeric to numeric."
   ]
  },
  {
   "cell_type": "code",
   "execution_count": 18,
   "id": "d20e3c10",
   "metadata": {},
   "outputs": [
    {
     "data": {
      "text/html": [
       "<div>\n",
       "<style scoped>\n",
       "    .dataframe tbody tr th:only-of-type {\n",
       "        vertical-align: middle;\n",
       "    }\n",
       "\n",
       "    .dataframe tbody tr th {\n",
       "        vertical-align: top;\n",
       "    }\n",
       "\n",
       "    .dataframe thead th {\n",
       "        text-align: right;\n",
       "    }\n",
       "</style>\n",
       "<table border=\"1\" class=\"dataframe\">\n",
       "  <thead>\n",
       "    <tr style=\"text-align: right;\">\n",
       "      <th></th>\n",
       "      <th>Survived</th>\n",
       "      <th>Pclass</th>\n",
       "      <th>Sex</th>\n",
       "      <th>Age</th>\n",
       "      <th>SibSp</th>\n",
       "      <th>Parch</th>\n",
       "      <th>Fare</th>\n",
       "      <th>Embarked</th>\n",
       "    </tr>\n",
       "  </thead>\n",
       "  <tbody>\n",
       "    <tr>\n",
       "      <th>0</th>\n",
       "      <td>0</td>\n",
       "      <td>3</td>\n",
       "      <td>male</td>\n",
       "      <td>22.0</td>\n",
       "      <td>1</td>\n",
       "      <td>0</td>\n",
       "      <td>7.2500</td>\n",
       "      <td>S</td>\n",
       "    </tr>\n",
       "    <tr>\n",
       "      <th>1</th>\n",
       "      <td>1</td>\n",
       "      <td>1</td>\n",
       "      <td>female</td>\n",
       "      <td>38.0</td>\n",
       "      <td>1</td>\n",
       "      <td>0</td>\n",
       "      <td>71.2833</td>\n",
       "      <td>C</td>\n",
       "    </tr>\n",
       "    <tr>\n",
       "      <th>2</th>\n",
       "      <td>1</td>\n",
       "      <td>3</td>\n",
       "      <td>female</td>\n",
       "      <td>26.0</td>\n",
       "      <td>0</td>\n",
       "      <td>0</td>\n",
       "      <td>7.9250</td>\n",
       "      <td>S</td>\n",
       "    </tr>\n",
       "    <tr>\n",
       "      <th>3</th>\n",
       "      <td>1</td>\n",
       "      <td>1</td>\n",
       "      <td>female</td>\n",
       "      <td>35.0</td>\n",
       "      <td>1</td>\n",
       "      <td>0</td>\n",
       "      <td>53.1000</td>\n",
       "      <td>S</td>\n",
       "    </tr>\n",
       "    <tr>\n",
       "      <th>4</th>\n",
       "      <td>0</td>\n",
       "      <td>3</td>\n",
       "      <td>male</td>\n",
       "      <td>35.0</td>\n",
       "      <td>0</td>\n",
       "      <td>0</td>\n",
       "      <td>8.0500</td>\n",
       "      <td>S</td>\n",
       "    </tr>\n",
       "  </tbody>\n",
       "</table>\n",
       "</div>"
      ],
      "text/plain": [
       "   Survived  Pclass     Sex   Age  SibSp  Parch     Fare Embarked\n",
       "0         0       3    male  22.0      1      0   7.2500        S\n",
       "1         1       1  female  38.0      1      0  71.2833        C\n",
       "2         1       3  female  26.0      0      0   7.9250        S\n",
       "3         1       1  female  35.0      1      0  53.1000        S\n",
       "4         0       3    male  35.0      0      0   8.0500        S"
      ]
     },
     "execution_count": 18,
     "metadata": {},
     "output_type": "execute_result"
    }
   ],
   "source": [
    "train_df.head()"
   ]
  },
  {
   "cell_type": "code",
   "execution_count": 19,
   "id": "b2b87252",
   "metadata": {},
   "outputs": [
    {
     "data": {
      "text/html": [
       "<div>\n",
       "<style scoped>\n",
       "    .dataframe tbody tr th:only-of-type {\n",
       "        vertical-align: middle;\n",
       "    }\n",
       "\n",
       "    .dataframe tbody tr th {\n",
       "        vertical-align: top;\n",
       "    }\n",
       "\n",
       "    .dataframe thead th {\n",
       "        text-align: right;\n",
       "    }\n",
       "</style>\n",
       "<table border=\"1\" class=\"dataframe\">\n",
       "  <thead>\n",
       "    <tr style=\"text-align: right;\">\n",
       "      <th></th>\n",
       "      <th>Survived</th>\n",
       "      <th>Pclass</th>\n",
       "      <th>Sex</th>\n",
       "      <th>Age</th>\n",
       "      <th>SibSp</th>\n",
       "      <th>Parch</th>\n",
       "      <th>Fare</th>\n",
       "      <th>Embarked</th>\n",
       "    </tr>\n",
       "  </thead>\n",
       "  <tbody>\n",
       "    <tr>\n",
       "      <th>0</th>\n",
       "      <td>0</td>\n",
       "      <td>3</td>\n",
       "      <td>0</td>\n",
       "      <td>22.0</td>\n",
       "      <td>1</td>\n",
       "      <td>0</td>\n",
       "      <td>7.2500</td>\n",
       "      <td>0</td>\n",
       "    </tr>\n",
       "    <tr>\n",
       "      <th>1</th>\n",
       "      <td>1</td>\n",
       "      <td>1</td>\n",
       "      <td>1</td>\n",
       "      <td>38.0</td>\n",
       "      <td>1</td>\n",
       "      <td>0</td>\n",
       "      <td>71.2833</td>\n",
       "      <td>2</td>\n",
       "    </tr>\n",
       "    <tr>\n",
       "      <th>2</th>\n",
       "      <td>1</td>\n",
       "      <td>3</td>\n",
       "      <td>1</td>\n",
       "      <td>26.0</td>\n",
       "      <td>0</td>\n",
       "      <td>0</td>\n",
       "      <td>7.9250</td>\n",
       "      <td>0</td>\n",
       "    </tr>\n",
       "    <tr>\n",
       "      <th>3</th>\n",
       "      <td>1</td>\n",
       "      <td>1</td>\n",
       "      <td>1</td>\n",
       "      <td>35.0</td>\n",
       "      <td>1</td>\n",
       "      <td>0</td>\n",
       "      <td>53.1000</td>\n",
       "      <td>0</td>\n",
       "    </tr>\n",
       "    <tr>\n",
       "      <th>4</th>\n",
       "      <td>0</td>\n",
       "      <td>3</td>\n",
       "      <td>0</td>\n",
       "      <td>35.0</td>\n",
       "      <td>0</td>\n",
       "      <td>0</td>\n",
       "      <td>8.0500</td>\n",
       "      <td>0</td>\n",
       "    </tr>\n",
       "  </tbody>\n",
       "</table>\n",
       "</div>"
      ],
      "text/plain": [
       "   Survived  Pclass  Sex   Age  SibSp  Parch     Fare  Embarked\n",
       "0         0       3    0  22.0      1      0   7.2500         0\n",
       "1         1       1    1  38.0      1      0  71.2833         2\n",
       "2         1       3    1  26.0      0      0   7.9250         0\n",
       "3         1       1    1  35.0      1      0  53.1000         0\n",
       "4         0       3    0  35.0      0      0   8.0500         0"
      ]
     },
     "execution_count": 19,
     "metadata": {},
     "output_type": "execute_result"
    }
   ],
   "source": [
    "convert_to_numeric(train_df)\n",
    "train_df.head()"
   ]
  },
  {
   "cell_type": "code",
   "execution_count": 20,
   "id": "a3669362",
   "metadata": {},
   "outputs": [
    {
     "data": {
      "text/html": [
       "<div>\n",
       "<style scoped>\n",
       "    .dataframe tbody tr th:only-of-type {\n",
       "        vertical-align: middle;\n",
       "    }\n",
       "\n",
       "    .dataframe tbody tr th {\n",
       "        vertical-align: top;\n",
       "    }\n",
       "\n",
       "    .dataframe thead th {\n",
       "        text-align: right;\n",
       "    }\n",
       "</style>\n",
       "<table border=\"1\" class=\"dataframe\">\n",
       "  <thead>\n",
       "    <tr style=\"text-align: right;\">\n",
       "      <th></th>\n",
       "      <th>PassengerId</th>\n",
       "      <th>Pclass</th>\n",
       "      <th>Sex</th>\n",
       "      <th>Age</th>\n",
       "      <th>SibSp</th>\n",
       "      <th>Parch</th>\n",
       "      <th>Fare</th>\n",
       "      <th>Embarked</th>\n",
       "    </tr>\n",
       "  </thead>\n",
       "  <tbody>\n",
       "    <tr>\n",
       "      <th>0</th>\n",
       "      <td>892</td>\n",
       "      <td>3</td>\n",
       "      <td>0</td>\n",
       "      <td>34.5</td>\n",
       "      <td>0</td>\n",
       "      <td>0</td>\n",
       "      <td>7.8292</td>\n",
       "      <td>1</td>\n",
       "    </tr>\n",
       "    <tr>\n",
       "      <th>1</th>\n",
       "      <td>893</td>\n",
       "      <td>3</td>\n",
       "      <td>1</td>\n",
       "      <td>47.0</td>\n",
       "      <td>1</td>\n",
       "      <td>0</td>\n",
       "      <td>7.0000</td>\n",
       "      <td>0</td>\n",
       "    </tr>\n",
       "    <tr>\n",
       "      <th>2</th>\n",
       "      <td>894</td>\n",
       "      <td>2</td>\n",
       "      <td>0</td>\n",
       "      <td>62.0</td>\n",
       "      <td>0</td>\n",
       "      <td>0</td>\n",
       "      <td>9.6875</td>\n",
       "      <td>1</td>\n",
       "    </tr>\n",
       "    <tr>\n",
       "      <th>3</th>\n",
       "      <td>895</td>\n",
       "      <td>3</td>\n",
       "      <td>0</td>\n",
       "      <td>27.0</td>\n",
       "      <td>0</td>\n",
       "      <td>0</td>\n",
       "      <td>8.6625</td>\n",
       "      <td>0</td>\n",
       "    </tr>\n",
       "    <tr>\n",
       "      <th>4</th>\n",
       "      <td>896</td>\n",
       "      <td>3</td>\n",
       "      <td>1</td>\n",
       "      <td>22.0</td>\n",
       "      <td>1</td>\n",
       "      <td>1</td>\n",
       "      <td>12.2875</td>\n",
       "      <td>0</td>\n",
       "    </tr>\n",
       "  </tbody>\n",
       "</table>\n",
       "</div>"
      ],
      "text/plain": [
       "   PassengerId  Pclass  Sex   Age  SibSp  Parch     Fare  Embarked\n",
       "0          892       3    0  34.5      0      0   7.8292         1\n",
       "1          893       3    1  47.0      1      0   7.0000         0\n",
       "2          894       2    0  62.0      0      0   9.6875         1\n",
       "3          895       3    0  27.0      0      0   8.6625         0\n",
       "4          896       3    1  22.0      1      1  12.2875         0"
      ]
     },
     "execution_count": 20,
     "metadata": {},
     "output_type": "execute_result"
    }
   ],
   "source": [
    "convert_to_numeric(test_df)\n",
    "test_df.head()"
   ]
  },
  {
   "cell_type": "markdown",
   "id": "3fb3c58d",
   "metadata": {},
   "source": [
    "# Combining the SibSp and Parch featuress"
   ]
  },
  {
   "cell_type": "markdown",
   "id": "d13a7395",
   "metadata": {},
   "source": [
    "Since we observed earlier that there was no correlation among these 2 features, we can combine them to create a stronger feature. Let's call it `FamilySize`"
   ]
  },
  {
   "cell_type": "code",
   "execution_count": 21,
   "id": "d82ca6a1",
   "metadata": {},
   "outputs": [
    {
     "data": {
      "text/html": [
       "<div>\n",
       "<style scoped>\n",
       "    .dataframe tbody tr th:only-of-type {\n",
       "        vertical-align: middle;\n",
       "    }\n",
       "\n",
       "    .dataframe tbody tr th {\n",
       "        vertical-align: top;\n",
       "    }\n",
       "\n",
       "    .dataframe thead th {\n",
       "        text-align: right;\n",
       "    }\n",
       "</style>\n",
       "<table border=\"1\" class=\"dataframe\">\n",
       "  <thead>\n",
       "    <tr style=\"text-align: right;\">\n",
       "      <th></th>\n",
       "      <th>FamilySize</th>\n",
       "      <th>Survived</th>\n",
       "    </tr>\n",
       "  </thead>\n",
       "  <tbody>\n",
       "    <tr>\n",
       "      <th>3</th>\n",
       "      <td>4</td>\n",
       "      <td>0.724138</td>\n",
       "    </tr>\n",
       "    <tr>\n",
       "      <th>2</th>\n",
       "      <td>3</td>\n",
       "      <td>0.578431</td>\n",
       "    </tr>\n",
       "    <tr>\n",
       "      <th>1</th>\n",
       "      <td>2</td>\n",
       "      <td>0.552795</td>\n",
       "    </tr>\n",
       "    <tr>\n",
       "      <th>6</th>\n",
       "      <td>7</td>\n",
       "      <td>0.333333</td>\n",
       "    </tr>\n",
       "    <tr>\n",
       "      <th>0</th>\n",
       "      <td>1</td>\n",
       "      <td>0.303538</td>\n",
       "    </tr>\n",
       "    <tr>\n",
       "      <th>4</th>\n",
       "      <td>5</td>\n",
       "      <td>0.200000</td>\n",
       "    </tr>\n",
       "    <tr>\n",
       "      <th>5</th>\n",
       "      <td>6</td>\n",
       "      <td>0.136364</td>\n",
       "    </tr>\n",
       "    <tr>\n",
       "      <th>7</th>\n",
       "      <td>8</td>\n",
       "      <td>0.000000</td>\n",
       "    </tr>\n",
       "    <tr>\n",
       "      <th>8</th>\n",
       "      <td>11</td>\n",
       "      <td>0.000000</td>\n",
       "    </tr>\n",
       "  </tbody>\n",
       "</table>\n",
       "</div>"
      ],
      "text/plain": [
       "   FamilySize  Survived\n",
       "3           4  0.724138\n",
       "2           3  0.578431\n",
       "1           2  0.552795\n",
       "6           7  0.333333\n",
       "0           1  0.303538\n",
       "4           5  0.200000\n",
       "5           6  0.136364\n",
       "7           8  0.000000\n",
       "8          11  0.000000"
      ]
     },
     "execution_count": 21,
     "metadata": {},
     "output_type": "execute_result"
    }
   ],
   "source": [
    "for dataset in [train_df, test_df]:\n",
    "    dataset['FamilySize'] = dataset['SibSp'] + dataset['Parch'] + 1\n",
    "\n",
    "train_df[['FamilySize', 'Survived']].groupby(['FamilySize'], as_index = False).mean().sort_values(by = 'Survived', ascending = False)"
   ]
  },
  {
   "cell_type": "markdown",
   "id": "e586b418",
   "metadata": {},
   "source": [
    "Let's combine these features into a categorical one called `IsAlone`. If that has better correlation with survival, we'll drop all three `FamilySize` `SibSp`, and `Parch` in favor of `IsAlone`. Otherwise we would keep `FamilySize` and drop the other two."
   ]
  },
  {
   "cell_type": "code",
   "execution_count": 22,
   "id": "e17216d3",
   "metadata": {},
   "outputs": [
    {
     "data": {
      "text/html": [
       "<div>\n",
       "<style scoped>\n",
       "    .dataframe tbody tr th:only-of-type {\n",
       "        vertical-align: middle;\n",
       "    }\n",
       "\n",
       "    .dataframe tbody tr th {\n",
       "        vertical-align: top;\n",
       "    }\n",
       "\n",
       "    .dataframe thead th {\n",
       "        text-align: right;\n",
       "    }\n",
       "</style>\n",
       "<table border=\"1\" class=\"dataframe\">\n",
       "  <thead>\n",
       "    <tr style=\"text-align: right;\">\n",
       "      <th></th>\n",
       "      <th>IsAlone</th>\n",
       "      <th>Survived</th>\n",
       "    </tr>\n",
       "  </thead>\n",
       "  <tbody>\n",
       "    <tr>\n",
       "      <th>0</th>\n",
       "      <td>0</td>\n",
       "      <td>0.505650</td>\n",
       "    </tr>\n",
       "    <tr>\n",
       "      <th>1</th>\n",
       "      <td>1</td>\n",
       "      <td>0.303538</td>\n",
       "    </tr>\n",
       "  </tbody>\n",
       "</table>\n",
       "</div>"
      ],
      "text/plain": [
       "   IsAlone  Survived\n",
       "0        0  0.505650\n",
       "1        1  0.303538"
      ]
     },
     "execution_count": 22,
     "metadata": {},
     "output_type": "execute_result"
    }
   ],
   "source": [
    "for dataset in [train_df, test_df]:\n",
    "    dataset['IsAlone'] = 0\n",
    "    dataset.loc[dataset['FamilySize'] == 1, 'IsAlone'] = 1\n",
    "train_df[['IsAlone', 'Survived']].groupby(['IsAlone'], as_index = False).mean().sort_values(by = 'Survived', ascending = False)"
   ]
  },
  {
   "cell_type": "markdown",
   "id": "e73acbb9",
   "metadata": {},
   "source": [
    "Thus, we drop the previous three columns and obtain a better feature."
   ]
  },
  {
   "cell_type": "code",
   "execution_count": 24,
   "id": "cc1e4d83",
   "metadata": {},
   "outputs": [],
   "source": [
    "for dataset in [train_df, test_df]:\n",
    "    dataset.drop(['SibSp', 'Parch', 'FamilySize'], axis = 1, inplace = True)"
   ]
  },
  {
   "cell_type": "code",
   "execution_count": 25,
   "id": "ba93056a",
   "metadata": {},
   "outputs": [
    {
     "data": {
      "text/html": [
       "<div>\n",
       "<style scoped>\n",
       "    .dataframe tbody tr th:only-of-type {\n",
       "        vertical-align: middle;\n",
       "    }\n",
       "\n",
       "    .dataframe tbody tr th {\n",
       "        vertical-align: top;\n",
       "    }\n",
       "\n",
       "    .dataframe thead th {\n",
       "        text-align: right;\n",
       "    }\n",
       "</style>\n",
       "<table border=\"1\" class=\"dataframe\">\n",
       "  <thead>\n",
       "    <tr style=\"text-align: right;\">\n",
       "      <th></th>\n",
       "      <th>Survived</th>\n",
       "      <th>Pclass</th>\n",
       "      <th>Sex</th>\n",
       "      <th>Age</th>\n",
       "      <th>Fare</th>\n",
       "      <th>Embarked</th>\n",
       "      <th>IsAlone</th>\n",
       "    </tr>\n",
       "  </thead>\n",
       "  <tbody>\n",
       "    <tr>\n",
       "      <th>0</th>\n",
       "      <td>0</td>\n",
       "      <td>3</td>\n",
       "      <td>0</td>\n",
       "      <td>22.0</td>\n",
       "      <td>7.2500</td>\n",
       "      <td>0</td>\n",
       "      <td>0</td>\n",
       "    </tr>\n",
       "    <tr>\n",
       "      <th>1</th>\n",
       "      <td>1</td>\n",
       "      <td>1</td>\n",
       "      <td>1</td>\n",
       "      <td>38.0</td>\n",
       "      <td>71.2833</td>\n",
       "      <td>2</td>\n",
       "      <td>0</td>\n",
       "    </tr>\n",
       "    <tr>\n",
       "      <th>2</th>\n",
       "      <td>1</td>\n",
       "      <td>3</td>\n",
       "      <td>1</td>\n",
       "      <td>26.0</td>\n",
       "      <td>7.9250</td>\n",
       "      <td>0</td>\n",
       "      <td>1</td>\n",
       "    </tr>\n",
       "    <tr>\n",
       "      <th>3</th>\n",
       "      <td>1</td>\n",
       "      <td>1</td>\n",
       "      <td>1</td>\n",
       "      <td>35.0</td>\n",
       "      <td>53.1000</td>\n",
       "      <td>0</td>\n",
       "      <td>0</td>\n",
       "    </tr>\n",
       "    <tr>\n",
       "      <th>4</th>\n",
       "      <td>0</td>\n",
       "      <td>3</td>\n",
       "      <td>0</td>\n",
       "      <td>35.0</td>\n",
       "      <td>8.0500</td>\n",
       "      <td>0</td>\n",
       "      <td>1</td>\n",
       "    </tr>\n",
       "  </tbody>\n",
       "</table>\n",
       "</div>"
      ],
      "text/plain": [
       "   Survived  Pclass  Sex   Age     Fare  Embarked  IsAlone\n",
       "0         0       3    0  22.0   7.2500         0        0\n",
       "1         1       1    1  38.0  71.2833         2        0\n",
       "2         1       3    1  26.0   7.9250         0        1\n",
       "3         1       1    1  35.0  53.1000         0        0\n",
       "4         0       3    0  35.0   8.0500         0        1"
      ]
     },
     "execution_count": 25,
     "metadata": {},
     "output_type": "execute_result"
    }
   ],
   "source": [
    "train_df.head()"
   ]
  },
  {
   "cell_type": "markdown",
   "id": "b335173c",
   "metadata": {},
   "source": [
    "# Converting Fare into a categorical Feature"
   ]
  },
  {
   "cell_type": "markdown",
   "id": "cb4dd09a",
   "metadata": {},
   "source": [
    "Based on the following fare ranges and survival rates, we can convert it into a categorical feature for better model evaluation."
   ]
  },
  {
   "cell_type": "code",
   "execution_count": 26,
   "id": "83dbaf28",
   "metadata": {},
   "outputs": [
    {
     "data": {
      "text/html": [
       "<div>\n",
       "<style scoped>\n",
       "    .dataframe tbody tr th:only-of-type {\n",
       "        vertical-align: middle;\n",
       "    }\n",
       "\n",
       "    .dataframe tbody tr th {\n",
       "        vertical-align: top;\n",
       "    }\n",
       "\n",
       "    .dataframe thead th {\n",
       "        text-align: right;\n",
       "    }\n",
       "</style>\n",
       "<table border=\"1\" class=\"dataframe\">\n",
       "  <thead>\n",
       "    <tr style=\"text-align: right;\">\n",
       "      <th></th>\n",
       "      <th>FareRange</th>\n",
       "      <th>Survived</th>\n",
       "    </tr>\n",
       "  </thead>\n",
       "  <tbody>\n",
       "    <tr>\n",
       "      <th>0</th>\n",
       "      <td>(-0.001, 7.91]</td>\n",
       "      <td>0.197309</td>\n",
       "    </tr>\n",
       "    <tr>\n",
       "      <th>1</th>\n",
       "      <td>(7.91, 14.454]</td>\n",
       "      <td>0.303571</td>\n",
       "    </tr>\n",
       "    <tr>\n",
       "      <th>2</th>\n",
       "      <td>(14.454, 31.0]</td>\n",
       "      <td>0.454955</td>\n",
       "    </tr>\n",
       "    <tr>\n",
       "      <th>3</th>\n",
       "      <td>(31.0, 512.329]</td>\n",
       "      <td>0.581081</td>\n",
       "    </tr>\n",
       "  </tbody>\n",
       "</table>\n",
       "</div>"
      ],
      "text/plain": [
       "         FareRange  Survived\n",
       "0   (-0.001, 7.91]  0.197309\n",
       "1   (7.91, 14.454]  0.303571\n",
       "2   (14.454, 31.0]  0.454955\n",
       "3  (31.0, 512.329]  0.581081"
      ]
     },
     "execution_count": 26,
     "metadata": {},
     "output_type": "execute_result"
    }
   ],
   "source": [
    "test_df['Fare'].fillna(test_df['Fare'].dropna().median(), inplace = True)\n",
    "\n",
    "train_df['FareRange'] = pd.qcut(train_df['Fare'], 4)\n",
    "train_df[['FareRange', 'Survived']].groupby(['FareRange'], as_index=False).mean().sort_values(by='FareRange', ascending=True)"
   ]
  },
  {
   "cell_type": "code",
   "execution_count": 27,
   "id": "8d26a005",
   "metadata": {},
   "outputs": [
    {
     "data": {
      "text/html": [
       "<div>\n",
       "<style scoped>\n",
       "    .dataframe tbody tr th:only-of-type {\n",
       "        vertical-align: middle;\n",
       "    }\n",
       "\n",
       "    .dataframe tbody tr th {\n",
       "        vertical-align: top;\n",
       "    }\n",
       "\n",
       "    .dataframe thead th {\n",
       "        text-align: right;\n",
       "    }\n",
       "</style>\n",
       "<table border=\"1\" class=\"dataframe\">\n",
       "  <thead>\n",
       "    <tr style=\"text-align: right;\">\n",
       "      <th></th>\n",
       "      <th>Survived</th>\n",
       "      <th>Pclass</th>\n",
       "      <th>Sex</th>\n",
       "      <th>Age</th>\n",
       "      <th>Fare</th>\n",
       "      <th>Embarked</th>\n",
       "      <th>IsAlone</th>\n",
       "    </tr>\n",
       "  </thead>\n",
       "  <tbody>\n",
       "    <tr>\n",
       "      <th>0</th>\n",
       "      <td>0</td>\n",
       "      <td>3</td>\n",
       "      <td>0</td>\n",
       "      <td>22.0</td>\n",
       "      <td>0</td>\n",
       "      <td>0</td>\n",
       "      <td>0</td>\n",
       "    </tr>\n",
       "    <tr>\n",
       "      <th>1</th>\n",
       "      <td>1</td>\n",
       "      <td>1</td>\n",
       "      <td>1</td>\n",
       "      <td>38.0</td>\n",
       "      <td>3</td>\n",
       "      <td>2</td>\n",
       "      <td>0</td>\n",
       "    </tr>\n",
       "    <tr>\n",
       "      <th>2</th>\n",
       "      <td>1</td>\n",
       "      <td>3</td>\n",
       "      <td>1</td>\n",
       "      <td>26.0</td>\n",
       "      <td>1</td>\n",
       "      <td>0</td>\n",
       "      <td>1</td>\n",
       "    </tr>\n",
       "    <tr>\n",
       "      <th>3</th>\n",
       "      <td>1</td>\n",
       "      <td>1</td>\n",
       "      <td>1</td>\n",
       "      <td>35.0</td>\n",
       "      <td>3</td>\n",
       "      <td>0</td>\n",
       "      <td>0</td>\n",
       "    </tr>\n",
       "    <tr>\n",
       "      <th>4</th>\n",
       "      <td>0</td>\n",
       "      <td>3</td>\n",
       "      <td>0</td>\n",
       "      <td>35.0</td>\n",
       "      <td>1</td>\n",
       "      <td>0</td>\n",
       "      <td>1</td>\n",
       "    </tr>\n",
       "    <tr>\n",
       "      <th>5</th>\n",
       "      <td>0</td>\n",
       "      <td>3</td>\n",
       "      <td>0</td>\n",
       "      <td>NaN</td>\n",
       "      <td>1</td>\n",
       "      <td>1</td>\n",
       "      <td>1</td>\n",
       "    </tr>\n",
       "    <tr>\n",
       "      <th>6</th>\n",
       "      <td>0</td>\n",
       "      <td>1</td>\n",
       "      <td>0</td>\n",
       "      <td>54.0</td>\n",
       "      <td>3</td>\n",
       "      <td>0</td>\n",
       "      <td>1</td>\n",
       "    </tr>\n",
       "    <tr>\n",
       "      <th>7</th>\n",
       "      <td>0</td>\n",
       "      <td>3</td>\n",
       "      <td>0</td>\n",
       "      <td>2.0</td>\n",
       "      <td>2</td>\n",
       "      <td>0</td>\n",
       "      <td>0</td>\n",
       "    </tr>\n",
       "    <tr>\n",
       "      <th>8</th>\n",
       "      <td>1</td>\n",
       "      <td>3</td>\n",
       "      <td>1</td>\n",
       "      <td>27.0</td>\n",
       "      <td>1</td>\n",
       "      <td>0</td>\n",
       "      <td>0</td>\n",
       "    </tr>\n",
       "    <tr>\n",
       "      <th>9</th>\n",
       "      <td>1</td>\n",
       "      <td>2</td>\n",
       "      <td>1</td>\n",
       "      <td>14.0</td>\n",
       "      <td>2</td>\n",
       "      <td>2</td>\n",
       "      <td>0</td>\n",
       "    </tr>\n",
       "  </tbody>\n",
       "</table>\n",
       "</div>"
      ],
      "text/plain": [
       "   Survived  Pclass  Sex   Age  Fare  Embarked  IsAlone\n",
       "0         0       3    0  22.0     0         0        0\n",
       "1         1       1    1  38.0     3         2        0\n",
       "2         1       3    1  26.0     1         0        1\n",
       "3         1       1    1  35.0     3         0        0\n",
       "4         0       3    0  35.0     1         0        1\n",
       "5         0       3    0   NaN     1         1        1\n",
       "6         0       1    0  54.0     3         0        1\n",
       "7         0       3    0   2.0     2         0        0\n",
       "8         1       3    1  27.0     1         0        0\n",
       "9         1       2    1  14.0     2         2        0"
      ]
     },
     "execution_count": 27,
     "metadata": {},
     "output_type": "execute_result"
    }
   ],
   "source": [
    "for dataset in [train_df, test_df]:\n",
    "    dataset.loc[dataset['Fare'] <= 7.91, 'Fare'] = 0.0\n",
    "    dataset.loc[(dataset['Fare'] > 7.91) & (dataset['Fare'] <= 14.454), 'Fare'] = 1.0\n",
    "    dataset.loc[(dataset['Fare'] > 14.454) & (dataset['Fare'] <= 31.0), 'Fare']   = 2.0\n",
    "    dataset.loc[dataset['Fare'] > 31.0, 'Fare'] = 3.0\n",
    "    dataset['Fare'] = dataset['Fare'].astype(int)\n",
    "\n",
    "train_df.drop(['FareRange'], axis=1, inplace = True)\n",
    "train_df.head(10)"
   ]
  },
  {
   "cell_type": "markdown",
   "id": "71e94702",
   "metadata": {},
   "source": [
    "# Completing and looking at the Age feature"
   ]
  },
  {
   "cell_type": "markdown",
   "id": "6b1df9c6",
   "metadata": {},
   "source": [
    "The only wrangling left to do is to complete the age feature and then, if we observe a group correlation pattern with survival similar to what we observed in Fare, categorize it as such.\n",
    "\n",
    "The first step is to fill the missing values."
   ]
  },
  {
   "cell_type": "code",
   "execution_count": 28,
   "id": "0cb7333f",
   "metadata": {},
   "outputs": [],
   "source": [
    "for dataset in [train_df, test_df]:\n",
    "    dataset['Age'].fillna(dataset['Age'].median(), inplace = True)"
   ]
  },
  {
   "cell_type": "code",
   "execution_count": 29,
   "id": "26bbd916",
   "metadata": {},
   "outputs": [
    {
     "data": {
      "text/html": [
       "<div>\n",
       "<style scoped>\n",
       "    .dataframe tbody tr th:only-of-type {\n",
       "        vertical-align: middle;\n",
       "    }\n",
       "\n",
       "    .dataframe tbody tr th {\n",
       "        vertical-align: top;\n",
       "    }\n",
       "\n",
       "    .dataframe thead th {\n",
       "        text-align: right;\n",
       "    }\n",
       "</style>\n",
       "<table border=\"1\" class=\"dataframe\">\n",
       "  <thead>\n",
       "    <tr style=\"text-align: right;\">\n",
       "      <th></th>\n",
       "      <th>AgeRange</th>\n",
       "      <th>Survived</th>\n",
       "    </tr>\n",
       "  </thead>\n",
       "  <tbody>\n",
       "    <tr>\n",
       "      <th>0</th>\n",
       "      <td>(-0.08, 16.0]</td>\n",
       "      <td>0.550000</td>\n",
       "    </tr>\n",
       "    <tr>\n",
       "      <th>1</th>\n",
       "      <td>(16.0, 32.0]</td>\n",
       "      <td>0.344762</td>\n",
       "    </tr>\n",
       "    <tr>\n",
       "      <th>2</th>\n",
       "      <td>(32.0, 48.0]</td>\n",
       "      <td>0.403226</td>\n",
       "    </tr>\n",
       "    <tr>\n",
       "      <th>3</th>\n",
       "      <td>(48.0, 64.0]</td>\n",
       "      <td>0.434783</td>\n",
       "    </tr>\n",
       "    <tr>\n",
       "      <th>4</th>\n",
       "      <td>(64.0, 80.0]</td>\n",
       "      <td>0.090909</td>\n",
       "    </tr>\n",
       "  </tbody>\n",
       "</table>\n",
       "</div>"
      ],
      "text/plain": [
       "        AgeRange  Survived\n",
       "0  (-0.08, 16.0]  0.550000\n",
       "1   (16.0, 32.0]  0.344762\n",
       "2   (32.0, 48.0]  0.403226\n",
       "3   (48.0, 64.0]  0.434783\n",
       "4   (64.0, 80.0]  0.090909"
      ]
     },
     "execution_count": 29,
     "metadata": {},
     "output_type": "execute_result"
    }
   ],
   "source": [
    "train_df['AgeRange'] = pd.cut(train_df['Age'].astype(int), 5)\n",
    "train_df[['AgeRange', 'Survived']].groupby('AgeRange', as_index = False).mean().sort_values(by = 'AgeRange', ascending = True)"
   ]
  },
  {
   "cell_type": "code",
   "execution_count": 30,
   "id": "569e9ffa",
   "metadata": {},
   "outputs": [
    {
     "data": {
      "text/html": [
       "<div>\n",
       "<style scoped>\n",
       "    .dataframe tbody tr th:only-of-type {\n",
       "        vertical-align: middle;\n",
       "    }\n",
       "\n",
       "    .dataframe tbody tr th {\n",
       "        vertical-align: top;\n",
       "    }\n",
       "\n",
       "    .dataframe thead th {\n",
       "        text-align: right;\n",
       "    }\n",
       "</style>\n",
       "<table border=\"1\" class=\"dataframe\">\n",
       "  <thead>\n",
       "    <tr style=\"text-align: right;\">\n",
       "      <th></th>\n",
       "      <th>Survived</th>\n",
       "      <th>Pclass</th>\n",
       "      <th>Sex</th>\n",
       "      <th>Age</th>\n",
       "      <th>Fare</th>\n",
       "      <th>Embarked</th>\n",
       "      <th>IsAlone</th>\n",
       "    </tr>\n",
       "  </thead>\n",
       "  <tbody>\n",
       "    <tr>\n",
       "      <th>0</th>\n",
       "      <td>0</td>\n",
       "      <td>3</td>\n",
       "      <td>0</td>\n",
       "      <td>1</td>\n",
       "      <td>0</td>\n",
       "      <td>0</td>\n",
       "      <td>0</td>\n",
       "    </tr>\n",
       "    <tr>\n",
       "      <th>1</th>\n",
       "      <td>1</td>\n",
       "      <td>1</td>\n",
       "      <td>1</td>\n",
       "      <td>2</td>\n",
       "      <td>3</td>\n",
       "      <td>2</td>\n",
       "      <td>0</td>\n",
       "    </tr>\n",
       "    <tr>\n",
       "      <th>2</th>\n",
       "      <td>1</td>\n",
       "      <td>3</td>\n",
       "      <td>1</td>\n",
       "      <td>1</td>\n",
       "      <td>1</td>\n",
       "      <td>0</td>\n",
       "      <td>1</td>\n",
       "    </tr>\n",
       "    <tr>\n",
       "      <th>3</th>\n",
       "      <td>1</td>\n",
       "      <td>1</td>\n",
       "      <td>1</td>\n",
       "      <td>2</td>\n",
       "      <td>3</td>\n",
       "      <td>0</td>\n",
       "      <td>0</td>\n",
       "    </tr>\n",
       "    <tr>\n",
       "      <th>4</th>\n",
       "      <td>0</td>\n",
       "      <td>3</td>\n",
       "      <td>0</td>\n",
       "      <td>2</td>\n",
       "      <td>1</td>\n",
       "      <td>0</td>\n",
       "      <td>1</td>\n",
       "    </tr>\n",
       "    <tr>\n",
       "      <th>5</th>\n",
       "      <td>0</td>\n",
       "      <td>3</td>\n",
       "      <td>0</td>\n",
       "      <td>1</td>\n",
       "      <td>1</td>\n",
       "      <td>1</td>\n",
       "      <td>1</td>\n",
       "    </tr>\n",
       "    <tr>\n",
       "      <th>6</th>\n",
       "      <td>0</td>\n",
       "      <td>1</td>\n",
       "      <td>0</td>\n",
       "      <td>3</td>\n",
       "      <td>3</td>\n",
       "      <td>0</td>\n",
       "      <td>1</td>\n",
       "    </tr>\n",
       "    <tr>\n",
       "      <th>7</th>\n",
       "      <td>0</td>\n",
       "      <td>3</td>\n",
       "      <td>0</td>\n",
       "      <td>0</td>\n",
       "      <td>2</td>\n",
       "      <td>0</td>\n",
       "      <td>0</td>\n",
       "    </tr>\n",
       "    <tr>\n",
       "      <th>8</th>\n",
       "      <td>1</td>\n",
       "      <td>3</td>\n",
       "      <td>1</td>\n",
       "      <td>1</td>\n",
       "      <td>1</td>\n",
       "      <td>0</td>\n",
       "      <td>0</td>\n",
       "    </tr>\n",
       "    <tr>\n",
       "      <th>9</th>\n",
       "      <td>1</td>\n",
       "      <td>2</td>\n",
       "      <td>1</td>\n",
       "      <td>0</td>\n",
       "      <td>2</td>\n",
       "      <td>2</td>\n",
       "      <td>0</td>\n",
       "    </tr>\n",
       "  </tbody>\n",
       "</table>\n",
       "</div>"
      ],
      "text/plain": [
       "   Survived  Pclass  Sex  Age  Fare  Embarked  IsAlone\n",
       "0         0       3    0    1     0         0        0\n",
       "1         1       1    1    2     3         2        0\n",
       "2         1       3    1    1     1         0        1\n",
       "3         1       1    1    2     3         0        0\n",
       "4         0       3    0    2     1         0        1\n",
       "5         0       3    0    1     1         1        1\n",
       "6         0       1    0    3     3         0        1\n",
       "7         0       3    0    0     2         0        0\n",
       "8         1       3    1    1     1         0        0\n",
       "9         1       2    1    0     2         2        0"
      ]
     },
     "execution_count": 30,
     "metadata": {},
     "output_type": "execute_result"
    }
   ],
   "source": [
    "for dataset in [train_df, test_df]:    \n",
    "    dataset.loc[ dataset['Age'] <= 16.0, 'Age'] = 0\n",
    "    dataset.loc[(dataset['Age'] > 16.0) & (dataset['Age'] <= 32.0), 'Age'] = 1\n",
    "    dataset.loc[(dataset['Age'] > 32.0) & (dataset['Age'] <= 48.0), 'Age'] = 2\n",
    "    dataset.loc[(dataset['Age'] > 48.0) & (dataset['Age'] <= 64.0), 'Age'] = 3\n",
    "    dataset.loc[ dataset['Age'] > 64.0, 'Age'] = 4\n",
    "    dataset['Age'] = dataset['Age'].astype(int)\n",
    "\n",
    "train_df.drop(['AgeRange'], axis = 1, inplace = True)\n",
    "train_df.head(10)"
   ]
  },
  {
   "cell_type": "markdown",
   "id": "f02529b0",
   "metadata": {},
   "source": [
    "# Model Training"
   ]
  },
  {
   "cell_type": "markdown",
   "id": "746eae02",
   "metadata": {},
   "source": [
    "Now we're completely ready to train different machine learning models and test their scores.\n",
    "One thing to note here is that while training different models, we may observe that some models perform better than others.\n",
    "This, however, is never universal, rather always varies depending on the dataset, what data wrangling we've done, among other things.\n",
    "\n",
    "Below is the list of classifiers we'll be feeding our training data to :\n",
    "\n",
    "But first, let's split our data into training and test data."
   ]
  },
  {
   "cell_type": "code",
   "execution_count": 31,
   "id": "96be7a9a",
   "metadata": {},
   "outputs": [
    {
     "data": {
      "text/plain": [
       "['Survived', 'Pclass', 'Sex', 'Age', 'Fare', 'Embarked', 'IsAlone']"
      ]
     },
     "execution_count": 31,
     "metadata": {},
     "output_type": "execute_result"
    }
   ],
   "source": [
    "train_df.columns.values.tolist()"
   ]
  },
  {
   "cell_type": "code",
   "execution_count": 32,
   "id": "a277bdf9",
   "metadata": {},
   "outputs": [
    {
     "name": "stdout",
     "output_type": "stream",
     "text": [
      "X_train Shape : (891, 6)\n",
      "y_Train Shape: (891,)\n",
      "X_test Shape: (418, 6)\n",
      "\n"
     ]
    }
   ],
   "source": [
    "features = ['Pclass', 'Sex', 'Age', 'Fare', 'Embarked', 'IsAlone']\n",
    "X_train = train_df[features]\n",
    "y_train = train_df['Survived']\n",
    "\n",
    "X_test = test_df[features]\n",
    "\n",
    "print(\"X_train Shape : {}\\ny_Train Shape: {}\\nX_test Shape: {}\\n\".format(X_train.shape, y_train.shape, X_test.shape))"
   ]
  },
  {
   "cell_type": "markdown",
   "id": "bcde2127",
   "metadata": {},
   "source": [
    "# Pipelining the training process"
   ]
  },
  {
   "cell_type": "markdown",
   "id": "9de9d911",
   "metadata": {},
   "source": [
    "Although it is usually sufficient to import the neccessary model training and preprocessing libraries and then test each one independently, we can make our tasks much easier by pipelining the steps for our final model prediction.\n",
    "\n",
    "Thus, we create a scaler object from `sklearn`s `preprocessing` module as well as a classifier object for each of the imported machine learning classifiers, namely:\n",
    "* Stochastic Gradient Descent: The most basic perceptron with a custom learning rule and a cost func.\n",
    "* Logistic Regression: An improvement upon the SGD in terms of regularization ability.\n",
    "* The Support Vector Machine: We're the using the rbf kernel with a pretty high inverse sigma for better results in this case.\n",
    "* Linear SVC: A linear version of the Support Vector Machine.\n",
    "* K-nearest Neighbors: with k = 3.\n",
    "* And a default decision tree and Random Forest Object.\n",
    "\n",
    "We then put each of them in an iterable list."
   ]
  },
  {
   "cell_type": "code",
   "execution_count": 34,
   "id": "6bd2d30f",
   "metadata": {},
   "outputs": [],
   "source": [
    "from sklearn.linear_model import LogisticRegression\n",
    "from sklearn.svm import SVC, LinearSVC\n",
    "from sklearn.ensemble import RandomForestClassifier\n",
    "from sklearn.neighbors import KNeighborsClassifier\n",
    "from sklearn.naive_bayes import GaussianNB\n",
    "from sklearn.linear_model import Perceptron\n",
    "from sklearn.linear_model import SGDClassifier\n",
    "from sklearn.tree import DecisionTreeClassifier"
   ]
  },
  {
   "cell_type": "code",
   "execution_count": 35,
   "id": "77976d37",
   "metadata": {},
   "outputs": [],
   "source": [
    "from sklearn.preprocessing import StandardScaler\n",
    "\n",
    "scaler = StandardScaler()\n",
    "\n",
    "sgd = SGDClassifier()\n",
    "log_reg = LogisticRegression(solver = 'liblinear')\n",
    "svc = SVC(kernel = 'rbf', C = 10.0)\n",
    "linear_svc = LinearSVC()\n",
    "knn_3 = KNeighborsClassifier(n_neighbors = 3)\n",
    "decision_tree = DecisionTreeClassifier()\n",
    "random_forest = RandomForestClassifier(n_estimators=100)\n",
    "\n",
    "clf_list = [sgd, log_reg, svc, linear_svc, knn_3, decision_tree, random_forest]"
   ]
  },
  {
   "cell_type": "markdown",
   "id": "3f8bbfe5",
   "metadata": {},
   "source": [
    "# Model Evaluation using the test dataset"
   ]
  },
  {
   "cell_type": "markdown",
   "id": "87f37157",
   "metadata": {},
   "source": [
    "For each classifer in `clf_list`, we build a pipeline that does the following:\n",
    "1. Scales the training data.\n",
    "2. Fits the scaled training data to the particular classifier model for wieght training.\n",
    "3. Predicts and prints the average accuracy score as compared to the known target values."
   ]
  },
  {
   "cell_type": "code",
   "execution_count": 36,
   "id": "7b2f7369",
   "metadata": {},
   "outputs": [
    {
     "name": "stdout",
     "output_type": "stream",
     "text": [
      "Accurary Scores tested against the training data's target values:\n",
      "SGDClassifier : 79.57351290684625\n",
      "LogisticRegression : 78.78787878787878\n",
      "SVC : 85.0729517396184\n",
      "LinearSVC : 78.78787878787878\n",
      "KNeighborsClassifier : 81.25701459034792\n",
      "DecisionTreeClassifier : 85.6341189674523\n",
      "RandomForestClassifier : 85.6341189674523\n"
     ]
    }
   ],
   "source": [
    "from sklearn.pipeline import Pipeline\n",
    "print(\"Accurary Scores tested against the training data's target values:\")\n",
    "for classifier in clf_list:\n",
    "    pipeline = Pipeline([('sclaer', scaler), ('clf', classifier)])\n",
    "    pipeline.fit(X_train, y_train)\n",
    "    y_predict = pipeline.predict(X_train)\n",
    "    print(\"{} : {}\".format(type(classifier).__name__, ((y_predict == y_train)).sum() / y_predict.shape[0] * 100))"
   ]
  },
  {
   "cell_type": "markdown",
   "id": "77dd81cb",
   "metadata": {},
   "source": [
    "As we can observe, the highest score is acheived by the Support Vector machine using the rbf kernel.\n",
    "The second best is shared by Decision tree and Random Forest Classifier. Surprisingly, both of these have identical scores."
   ]
  },
  {
   "cell_type": "markdown",
   "id": "06fd95a8",
   "metadata": {},
   "source": [
    "# Model Evaluation using train dataset"
   ]
  },
  {
   "cell_type": "markdown",
   "id": "30bf5783",
   "metadata": {},
   "source": [
    "For the training set, we'll be using the ground truth file, which contains reported factual truth about the survival or lack thereof for all passengers including those in the test set.\n",
    "\n",
    "Apart from that, all the steps will remain the same."
   ]
  },
  {
   "cell_type": "code",
   "execution_count": 38,
   "id": "338475d8",
   "metadata": {},
   "outputs": [],
   "source": [
    "ground_truth = pd.read_csv('ground_truth.csv')\n",
    "y_test = ground_truth['Survived']"
   ]
  },
  {
   "cell_type": "code",
   "execution_count": 39,
   "id": "782922ab",
   "metadata": {},
   "outputs": [
    {
     "name": "stdout",
     "output_type": "stream",
     "text": [
      "Accurary Scores for the test data tested against the known documented outcome of the Titanic crash: \n",
      "SGDClassifier : 71.05263157894737\n",
      "LogisticRegression : 76.79425837320574\n",
      "SVC : 74.88038277511961\n",
      "LinearSVC : 76.79425837320574\n",
      "KNeighborsClassifier : 76.31578947368422\n",
      "DecisionTreeClassifier : 76.31578947368422\n",
      "RandomForestClassifier : 76.55502392344498\n"
     ]
    }
   ],
   "source": [
    "print(\"Accurary Scores for the test data tested against the known documented outcome of the Titanic crash: \")\n",
    "for classifier in clf_list:\n",
    "    pipeline = Pipeline([('scaler', scaler), ('clf', classifier)])\n",
    "    pipeline.fit(X_train, y_train)\n",
    "    y_predict = pipeline.predict(X_test)\n",
    "    print(\"{} : {}\".format(type(classifier).__name__, ((y_predict == y_test)).sum() / y_predict.shape[0] * 100))"
   ]
  },
  {
   "cell_type": "markdown",
   "id": "3d405972",
   "metadata": {},
   "source": [
    "# Observations and the road ahead..."
   ]
  },
  {
   "cell_type": "markdown",
   "id": "bca2da5a",
   "metadata": {},
   "source": [
    "A notable thing here, is that although on the training set, the SVC and forest methods delivered the best results, on the previously unseen test dataset, all three come second to the Linear SVC.\n",
    "\n",
    "This may be the result of high inverse regularization parameter on a small dataset resulting in overfitting of the model. However, a definitive statment about its cause requires mathematical analysis beyond the scope of this demonstration.\n",
    "\n",
    "Still, one could apply this approach to several other introductory competitions on kaggle in order to implement and better understand these techniques.\n",
    "There is much further scope for improvement in the final accuracy.\n",
    "A few things that could be done are:\n",
    "* Make use of the `name` column removed earlier somehow.\n",
    "* Benefit from the use of people's titles which are in the `name` column to better fill the missing age values(e.g. people lacking Mr. and Ms. are unlikely to be 29.5 years of age which is the median.)\n",
    "* Use a different scaler for preprocessing."
   ]
  },
  {
   "cell_type": "code",
   "execution_count": null,
   "id": "42813228",
   "metadata": {},
   "outputs": [],
   "source": []
  }
 ],
 "metadata": {
  "kernelspec": {
   "display_name": "Python 3",
   "language": "python",
   "name": "python3"
  },
  "language_info": {
   "codemirror_mode": {
    "name": "ipython",
    "version": 3
   },
   "file_extension": ".py",
   "mimetype": "text/x-python",
   "name": "python",
   "nbconvert_exporter": "python",
   "pygments_lexer": "ipython3",
   "version": "3.8.8"
  }
 },
 "nbformat": 4,
 "nbformat_minor": 5
}
